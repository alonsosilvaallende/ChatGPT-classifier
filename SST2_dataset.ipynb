{
 "cells": [
  {
   "cell_type": "code",
   "execution_count": 1,
   "id": "7f354d96",
   "metadata": {
    "ExecuteTime": {
     "end_time": "2023-06-22T13:16:25.592129Z",
     "start_time": "2023-06-22T13:16:25.572761Z"
    }
   },
   "outputs": [],
   "source": [
    "%load_ext autoreload\n",
    "%autoreload 2"
   ]
  },
  {
   "cell_type": "code",
   "execution_count": 2,
   "id": "ccdd225a",
   "metadata": {
    "ExecuteTime": {
     "end_time": "2023-06-22T13:16:26.515125Z",
     "start_time": "2023-06-22T13:16:26.487539Z"
    }
   },
   "outputs": [
    {
     "data": {
      "text/plain": [
       "True"
      ]
     },
     "execution_count": 2,
     "metadata": {},
     "output_type": "execute_result"
    }
   ],
   "source": [
    "# get environment variable: OPENAI_API_KEY\n",
    "from dotenv import load_dotenv\n",
    "load_dotenv() "
   ]
  },
  {
   "cell_type": "code",
   "execution_count": 3,
   "id": "89ae874f",
   "metadata": {
    "ExecuteTime": {
     "end_time": "2023-06-22T13:16:27.353151Z",
     "start_time": "2023-06-22T13:16:27.255743Z"
    }
   },
   "outputs": [],
   "source": [
    "import tiktoken\n",
    "import openai"
   ]
  },
  {
   "cell_type": "code",
   "execution_count": 4,
   "id": "1d1ad63e",
   "metadata": {
    "ExecuteTime": {
     "end_time": "2023-06-22T13:16:28.322230Z",
     "start_time": "2023-06-22T13:16:28.097671Z"
    }
   },
   "outputs": [
    {
     "data": {
      "text/plain": [
       "([31587], [43324])"
      ]
     },
     "execution_count": 4,
     "metadata": {},
     "output_type": "execute_result"
    }
   ],
   "source": [
    "# find tokens for 'positive' and 'negative'\n",
    "enc = tiktoken.encoding_for_model(\"gpt-3.5-turbo\")\n",
    "enc.encode(\"positive\"), enc.encode(\"negative\") "
   ]
  },
  {
   "cell_type": "code",
   "execution_count": 5,
   "id": "453e065c",
   "metadata": {
    "ExecuteTime": {
     "end_time": "2023-06-22T13:16:31.903269Z",
     "start_time": "2023-06-22T13:16:29.488990Z"
    }
   },
   "outputs": [
    {
     "name": "stderr",
     "output_type": "stream",
     "text": [
      "Found cached dataset sst2 (/home/survival/.cache/huggingface/datasets/sst2/default/2.0.0/9896208a8d85db057ac50c72282bcb8fe755accc671a57dd8059d4e130961ed5)\n"
     ]
    },
    {
     "data": {
      "application/vnd.jupyter.widget-view+json": {
       "model_id": "780c46884389400abdfd5c75364fd6d3",
       "version_major": 2,
       "version_minor": 0
      },
      "text/plain": [
       "  0%|          | 0/3 [00:00<?, ?it/s]"
      ]
     },
     "metadata": {},
     "output_type": "display_data"
    }
   ],
   "source": [
    "# download dataset from hf datasets https://github.com/huggingface/datasets\n",
    "# !pip install datasets \n",
    "from datasets import load_dataset\n",
    "\n",
    "dataset = load_dataset(\"sst2\")"
   ]
  },
  {
   "cell_type": "code",
   "execution_count": 6,
   "id": "ea0727d5",
   "metadata": {
    "ExecuteTime": {
     "end_time": "2023-06-22T13:16:32.539595Z",
     "start_time": "2023-06-22T13:16:32.515766Z"
    }
   },
   "outputs": [
    {
     "data": {
      "text/plain": [
       "Dataset({\n",
       "    features: ['idx', 'sentence', 'label'],\n",
       "    num_rows: 872\n",
       "})"
      ]
     },
     "execution_count": 6,
     "metadata": {},
     "output_type": "execute_result"
    }
   ],
   "source": [
    "val_data = dataset[\"validation\"]\n",
    "val_data"
   ]
  },
  {
   "cell_type": "code",
   "execution_count": 7,
   "id": "d5474366",
   "metadata": {
    "ExecuteTime": {
     "end_time": "2023-06-22T13:16:36.724020Z",
     "start_time": "2023-06-22T13:16:36.638616Z"
    }
   },
   "outputs": [],
   "source": [
    "# sentimentid2sentimentlabel = {\"0\": \"negative\", \"1\": \"positive\"}\n",
    "sents, labels = [], []\n",
    "for idx in range(len(val_data)):\n",
    "    sents.append(val_data[idx][\"sentence\"])\n",
    "    label = val_data[idx][\"label\"]\n",
    "    if label == 0:\n",
    "        labels.append('negative')\n",
    "    else:\n",
    "        labels.append('positive')"
   ]
  },
  {
   "cell_type": "code",
   "execution_count": 8,
   "id": "4f032ca7",
   "metadata": {
    "ExecuteTime": {
     "end_time": "2023-06-22T13:16:38.946475Z",
     "start_time": "2023-06-22T13:16:38.924289Z"
    }
   },
   "outputs": [
    {
     "data": {
      "text/plain": [
       "('although laced with humor and a few fanciful touches , the film is a refreshingly serious look at young women . ',\n",
       " 'positive')"
      ]
     },
     "execution_count": 8,
     "metadata": {},
     "output_type": "execute_result"
    }
   ],
   "source": [
    "sent = sents[5]\n",
    "label = labels[5]\n",
    "sent, label"
   ]
  },
  {
   "cell_type": "code",
   "execution_count": 9,
   "id": "efb8e846",
   "metadata": {
    "ExecuteTime": {
     "end_time": "2023-06-22T13:16:56.687010Z",
     "start_time": "2023-06-22T13:16:56.665430Z"
    }
   },
   "outputs": [
    {
     "data": {
      "text/plain": [
       "\"'although laced with humor and a few fanciful touches , the film is a refreshingly serious look at young women . '\""
      ]
     },
     "execution_count": 9,
     "metadata": {},
     "output_type": "execute_result"
    }
   ],
   "source": [
    "repr(sent)"
   ]
  },
  {
   "cell_type": "code",
   "execution_count": 10,
   "id": "37996834",
   "metadata": {
    "ExecuteTime": {
     "end_time": "2023-06-22T13:16:57.200200Z",
     "start_time": "2023-06-22T13:16:57.177908Z"
    }
   },
   "outputs": [
    {
     "data": {
      "text/plain": [
       "[37241,\n",
       " 326,\n",
       " 4535,\n",
       " 449,\n",
       " 28485,\n",
       " 323,\n",
       " 264,\n",
       " 2478,\n",
       " 81697,\n",
       " 5092,\n",
       " 29727,\n",
       " 1174,\n",
       " 279,\n",
       " 4632,\n",
       " 374,\n",
       " 264,\n",
       " 10625,\n",
       " 11559,\n",
       " 6129,\n",
       " 1427,\n",
       " 520,\n",
       " 3995,\n",
       " 3278,\n",
       " 662,\n",
       " 220]"
      ]
     },
     "execution_count": 10,
     "metadata": {},
     "output_type": "execute_result"
    }
   ],
   "source": [
    "enc.encode(sent)"
   ]
  },
  {
   "cell_type": "code",
   "execution_count": 11,
   "id": "4c30cab7",
   "metadata": {
    "ExecuteTime": {
     "end_time": "2023-06-22T13:17:00.886173Z",
     "start_time": "2023-06-22T13:17:00.865373Z"
    }
   },
   "outputs": [],
   "source": [
    "def my_classifier(text: str) -> str:\n",
    "    return openai.ChatCompletion.create(\n",
    "    model='gpt-3.5-turbo',\n",
    "    messages=[\n",
    "        {\n",
    "            'role': 'system',\n",
    "            'content': 'Given this text, what is the sentiment conveyed? Is it positive or negative?'\n",
    "        },\n",
    "        {\n",
    "        'role':'user',\n",
    "        'content':text\n",
    "    }],\n",
    "    logit_bias={\n",
    "        '31587': 100,    # 31587 is the token for `positive`\n",
    "        '43324': 100     # 43324 is the token for `negative`\n",
    "    },\n",
    "    max_tokens=1,\n",
    "    temperature=0\n",
    ").choices[0].message.content"
   ]
  },
  {
   "cell_type": "code",
   "execution_count": 12,
   "id": "64b776a9",
   "metadata": {
    "ExecuteTime": {
     "end_time": "2023-06-22T13:17:04.454080Z",
     "start_time": "2023-06-22T13:17:03.762931Z"
    }
   },
   "outputs": [
    {
     "data": {
      "text/plain": [
       "'positive'"
      ]
     },
     "execution_count": 12,
     "metadata": {},
     "output_type": "execute_result"
    }
   ],
   "source": [
    "my_classifier(sent)"
   ]
  },
  {
   "cell_type": "code",
   "execution_count": 20,
   "id": "8e7164e5",
   "metadata": {
    "ExecuteTime": {
     "end_time": "2023-06-22T13:20:32.518777Z",
     "start_time": "2023-06-22T13:20:32.496512Z"
    }
   },
   "outputs": [
    {
     "data": {
      "text/plain": [
       "'positive'"
      ]
     },
     "execution_count": 20,
     "metadata": {},
     "output_type": "execute_result"
    }
   ],
   "source": [
    "label"
   ]
  },
  {
   "cell_type": "code",
   "execution_count": 14,
   "id": "ce85f900",
   "metadata": {
    "ExecuteTime": {
     "end_time": "2023-06-22T13:17:14.961388Z",
     "start_time": "2023-06-22T13:17:14.941409Z"
    }
   },
   "outputs": [],
   "source": [
    "import time"
   ]
  },
  {
   "cell_type": "code",
   "execution_count": 15,
   "id": "aa75e0bb",
   "metadata": {
    "ExecuteTime": {
     "end_time": "2023-06-22T13:18:04.352049Z",
     "start_time": "2023-06-22T13:17:23.220322Z"
    },
    "scrolled": true
   },
   "outputs": [],
   "source": [
    "preds = []\n",
    "for i, sent in enumerate(sents[:100]):\n",
    "    try:\n",
    "        preds.append(my_classifier(sent))\n",
    "    except:\n",
    "        preds.append(np.nan)\n",
    "        time.sleep(5)"
   ]
  },
  {
   "cell_type": "code",
   "execution_count": 16,
   "id": "9bb70f60",
   "metadata": {
    "ExecuteTime": {
     "end_time": "2023-06-22T13:18:08.719747Z",
     "start_time": "2023-06-22T13:18:08.697576Z"
    }
   },
   "outputs": [
    {
     "data": {
      "text/plain": [
       "(100, 872)"
      ]
     },
     "execution_count": 16,
     "metadata": {},
     "output_type": "execute_result"
    }
   ],
   "source": [
    "len(preds), len(labels)"
   ]
  },
  {
   "cell_type": "code",
   "execution_count": 17,
   "id": "c3ec133f",
   "metadata": {
    "ExecuteTime": {
     "end_time": "2023-06-22T13:18:13.363499Z",
     "start_time": "2023-06-22T13:18:13.343625Z"
    }
   },
   "outputs": [],
   "source": [
    "import pandas as pd"
   ]
  },
  {
   "cell_type": "code",
   "execution_count": 18,
   "id": "1cebb731",
   "metadata": {
    "ExecuteTime": {
     "end_time": "2023-06-22T13:18:14.203889Z",
     "start_time": "2023-06-22T13:18:14.182707Z"
    }
   },
   "outputs": [
    {
     "data": {
      "text/plain": [
       "[]"
      ]
     },
     "execution_count": 18,
     "metadata": {},
     "output_type": "execute_result"
    }
   ],
   "source": [
    "missing = [i for i, pred in enumerate(preds) if pd.isna(pred)]\n",
    "missing"
   ]
  },
  {
   "cell_type": "code",
   "execution_count": 19,
   "id": "7cde1495",
   "metadata": {
    "ExecuteTime": {
     "end_time": "2023-06-22T13:18:28.080290Z",
     "start_time": "2023-06-22T13:18:28.057294Z"
    }
   },
   "outputs": [
    {
     "data": {
      "text/plain": [
       "0.94"
      ]
     },
     "execution_count": 19,
     "metadata": {},
     "output_type": "execute_result"
    }
   ],
   "source": [
    "import numpy as np\n",
    "\n",
    "np.mean([labels[i] == preds[i] for i in range(len(preds))])"
   ]
  },
  {
   "cell_type": "code",
   "execution_count": 21,
   "id": "0d28a04d",
   "metadata": {
    "ExecuteTime": {
     "end_time": "2023-06-22T13:21:22.981205Z",
     "start_time": "2023-06-22T13:21:22.956788Z"
    }
   },
   "outputs": [],
   "source": [
    "results = pd.DataFrame()\n",
    "results[\"sentence\"] = sents[:100]\n",
    "results[\"label\"] = labels[:100]\n",
    "results[\"predictions\"] = preds"
   ]
  },
  {
   "cell_type": "code",
   "execution_count": 22,
   "id": "6f14eb11",
   "metadata": {
    "ExecuteTime": {
     "end_time": "2023-06-22T13:21:25.249847Z",
     "start_time": "2023-06-22T13:21:25.222659Z"
    }
   },
   "outputs": [
    {
     "data": {
      "text/html": [
       "<div>\n",
       "<style scoped>\n",
       "    .dataframe tbody tr th:only-of-type {\n",
       "        vertical-align: middle;\n",
       "    }\n",
       "\n",
       "    .dataframe tbody tr th {\n",
       "        vertical-align: top;\n",
       "    }\n",
       "\n",
       "    .dataframe thead th {\n",
       "        text-align: right;\n",
       "    }\n",
       "</style>\n",
       "<table border=\"1\" class=\"dataframe\">\n",
       "  <thead>\n",
       "    <tr style=\"text-align: right;\">\n",
       "      <th></th>\n",
       "      <th>sentence</th>\n",
       "      <th>label</th>\n",
       "      <th>predictions</th>\n",
       "    </tr>\n",
       "  </thead>\n",
       "  <tbody>\n",
       "    <tr>\n",
       "      <th>0</th>\n",
       "      <td>it 's a charming and often affecting journey .</td>\n",
       "      <td>positive</td>\n",
       "      <td>positive</td>\n",
       "    </tr>\n",
       "    <tr>\n",
       "      <th>1</th>\n",
       "      <td>unflinchingly bleak and desperate</td>\n",
       "      <td>negative</td>\n",
       "      <td>negative</td>\n",
       "    </tr>\n",
       "    <tr>\n",
       "      <th>2</th>\n",
       "      <td>allows us to hope that nolan is poised to emba...</td>\n",
       "      <td>positive</td>\n",
       "      <td>positive</td>\n",
       "    </tr>\n",
       "    <tr>\n",
       "      <th>3</th>\n",
       "      <td>the acting , costumes , music , cinematography...</td>\n",
       "      <td>positive</td>\n",
       "      <td>positive</td>\n",
       "    </tr>\n",
       "    <tr>\n",
       "      <th>4</th>\n",
       "      <td>it 's slow -- very , very slow .</td>\n",
       "      <td>negative</td>\n",
       "      <td>negative</td>\n",
       "    </tr>\n",
       "    <tr>\n",
       "      <th>5</th>\n",
       "      <td>although laced with humor and a few fanciful t...</td>\n",
       "      <td>positive</td>\n",
       "      <td>positive</td>\n",
       "    </tr>\n",
       "    <tr>\n",
       "      <th>6</th>\n",
       "      <td>a sometimes tedious film .</td>\n",
       "      <td>negative</td>\n",
       "      <td>negative</td>\n",
       "    </tr>\n",
       "    <tr>\n",
       "      <th>7</th>\n",
       "      <td>or doing last year 's taxes with your ex-wife .</td>\n",
       "      <td>negative</td>\n",
       "      <td>negative</td>\n",
       "    </tr>\n",
       "    <tr>\n",
       "      <th>8</th>\n",
       "      <td>you do n't have to know about music to appreci...</td>\n",
       "      <td>positive</td>\n",
       "      <td>positive</td>\n",
       "    </tr>\n",
       "    <tr>\n",
       "      <th>9</th>\n",
       "      <td>in exactly 89 minutes , most of which passed a...</td>\n",
       "      <td>negative</td>\n",
       "      <td>negative</td>\n",
       "    </tr>\n",
       "  </tbody>\n",
       "</table>\n",
       "</div>"
      ],
      "text/plain": [
       "                                            sentence     label predictions\n",
       "0    it 's a charming and often affecting journey .   positive    positive\n",
       "1                 unflinchingly bleak and desperate   negative    negative\n",
       "2  allows us to hope that nolan is poised to emba...  positive    positive\n",
       "3  the acting , costumes , music , cinematography...  positive    positive\n",
       "4                  it 's slow -- very , very slow .   negative    negative\n",
       "5  although laced with humor and a few fanciful t...  positive    positive\n",
       "6                        a sometimes tedious film .   negative    negative\n",
       "7   or doing last year 's taxes with your ex-wife .   negative    negative\n",
       "8  you do n't have to know about music to appreci...  positive    positive\n",
       "9  in exactly 89 minutes , most of which passed a...  negative    negative"
      ]
     },
     "execution_count": 22,
     "metadata": {},
     "output_type": "execute_result"
    }
   ],
   "source": [
    "results.head(10)"
   ]
  },
  {
   "cell_type": "code",
   "execution_count": 24,
   "id": "4c978231",
   "metadata": {
    "ExecuteTime": {
     "end_time": "2023-06-22T13:21:45.329651Z",
     "start_time": "2023-06-22T13:21:45.306311Z"
    }
   },
   "outputs": [],
   "source": [
    "results.to_csv(\"./outputs/SST2_dataset_results.csv\", index=False)"
   ]
  }
 ],
 "metadata": {
  "kernelspec": {
   "display_name": "Python [conda env:langchain]",
   "language": "python",
   "name": "conda-env-langchain-py"
  },
  "language_info": {
   "codemirror_mode": {
    "name": "ipython",
    "version": 3
   },
   "file_extension": ".py",
   "mimetype": "text/x-python",
   "name": "python",
   "nbconvert_exporter": "python",
   "pygments_lexer": "ipython3",
   "version": "3.11.3"
  },
  "varInspector": {
   "cols": {
    "lenName": 16,
    "lenType": 16,
    "lenVar": 40
   },
   "kernels_config": {
    "python": {
     "delete_cmd_postfix": "",
     "delete_cmd_prefix": "del ",
     "library": "var_list.py",
     "varRefreshCmd": "print(var_dic_list())"
    },
    "r": {
     "delete_cmd_postfix": ") ",
     "delete_cmd_prefix": "rm(",
     "library": "var_list.r",
     "varRefreshCmd": "cat(var_dic_list()) "
    }
   },
   "types_to_exclude": [
    "module",
    "function",
    "builtin_function_or_method",
    "instance",
    "_Feature"
   ],
   "window_display": false
  }
 },
 "nbformat": 4,
 "nbformat_minor": 5
}

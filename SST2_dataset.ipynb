{
 "cells": [
  {
   "cell_type": "code",
   "execution_count": 1,
   "id": "993ab9b2",
   "metadata": {
    "ExecuteTime": {
     "end_time": "2023-06-21T23:56:24.528105Z",
     "start_time": "2023-06-21T23:56:24.506404Z"
    }
   },
   "outputs": [],
   "source": [
    "%load_ext autoreload\n",
    "%autoreload 2"
   ]
  },
  {
   "cell_type": "code",
   "execution_count": 2,
   "id": "d265096f",
   "metadata": {
    "ExecuteTime": {
     "end_time": "2023-06-21T23:56:25.063979Z",
     "start_time": "2023-06-21T23:56:25.039868Z"
    }
   },
   "outputs": [
    {
     "data": {
      "text/plain": [
       "True"
      ]
     },
     "execution_count": 2,
     "metadata": {},
     "output_type": "execute_result"
    }
   ],
   "source": [
    "# get environment variable: OPENAI_API_KEY\n",
    "from dotenv import load_dotenv\n",
    "load_dotenv() "
   ]
  },
  {
   "cell_type": "code",
   "execution_count": 3,
   "id": "e083f070",
   "metadata": {
    "ExecuteTime": {
     "end_time": "2023-06-21T23:56:26.035478Z",
     "start_time": "2023-06-21T23:56:25.934863Z"
    }
   },
   "outputs": [],
   "source": [
    "import tiktoken\n",
    "import openai"
   ]
  },
  {
   "cell_type": "code",
   "execution_count": 4,
   "id": "ba0448a6",
   "metadata": {
    "ExecuteTime": {
     "end_time": "2023-06-21T23:56:26.722254Z",
     "start_time": "2023-06-21T23:56:26.491396Z"
    }
   },
   "outputs": [
    {
     "data": {
      "text/plain": [
       "([31587], [43324])"
      ]
     },
     "execution_count": 4,
     "metadata": {},
     "output_type": "execute_result"
    }
   ],
   "source": [
    "# find tokens for 'positive' and 'negative'\n",
    "enc = tiktoken.encoding_for_model(\"gpt-3.5-turbo\")\n",
    "enc.encode(\"positive\"), enc.encode(\"negative\") "
   ]
  },
  {
   "cell_type": "code",
   "execution_count": 5,
   "id": "1a60532b",
   "metadata": {
    "ExecuteTime": {
     "end_time": "2023-06-21T23:56:30.553083Z",
     "start_time": "2023-06-21T23:56:27.917751Z"
    }
   },
   "outputs": [
    {
     "name": "stderr",
     "output_type": "stream",
     "text": [
      "Found cached dataset sst2 (/home/survival/.cache/huggingface/datasets/sst2/default/2.0.0/9896208a8d85db057ac50c72282bcb8fe755accc671a57dd8059d4e130961ed5)\n"
     ]
    },
    {
     "data": {
      "application/vnd.jupyter.widget-view+json": {
       "model_id": "ba3963bccb774ea996ddd5a96a57b206",
       "version_major": 2,
       "version_minor": 0
      },
      "text/plain": [
       "  0%|          | 0/3 [00:00<?, ?it/s]"
      ]
     },
     "metadata": {},
     "output_type": "display_data"
    }
   ],
   "source": [
    "# download dataset from hf datasets https://github.com/huggingface/datasets\n",
    "# !pip install datasets \n",
    "from datasets import load_dataset\n",
    "\n",
    "dataset = load_dataset(\"sst2\")"
   ]
  },
  {
   "cell_type": "code",
   "execution_count": 6,
   "id": "8366bc7f",
   "metadata": {
    "ExecuteTime": {
     "end_time": "2023-06-21T23:56:31.801701Z",
     "start_time": "2023-06-21T23:56:31.778962Z"
    }
   },
   "outputs": [
    {
     "data": {
      "text/plain": [
       "Dataset({\n",
       "    features: ['idx', 'sentence', 'label'],\n",
       "    num_rows: 872\n",
       "})"
      ]
     },
     "execution_count": 6,
     "metadata": {},
     "output_type": "execute_result"
    }
   ],
   "source": [
    "val_data = dataset[\"validation\"]\n",
    "val_data"
   ]
  },
  {
   "cell_type": "code",
   "execution_count": 7,
   "id": "6e49b02c",
   "metadata": {
    "ExecuteTime": {
     "end_time": "2023-06-21T23:56:32.833803Z",
     "start_time": "2023-06-21T23:56:32.751039Z"
    }
   },
   "outputs": [],
   "source": [
    "# sentimentid2sentimentlabel = {\"0\": \"negative\", \"1\": \"positive\"}\n",
    "sents, labels = [], []\n",
    "for idx in range(len(val_data)):\n",
    "    sents.append(val_data[idx][\"sentence\"])\n",
    "    label = val_data[idx][\"label\"]\n",
    "    if label == 0:\n",
    "        labels.append('negative')\n",
    "    else:\n",
    "        labels.append('positive')"
   ]
  },
  {
   "cell_type": "code",
   "execution_count": 8,
   "id": "283febd0",
   "metadata": {
    "ExecuteTime": {
     "end_time": "2023-06-21T23:56:33.564463Z",
     "start_time": "2023-06-21T23:56:33.542916Z"
    }
   },
   "outputs": [
    {
     "data": {
      "text/plain": [
       "(\"it 's a charming and often affecting journey . \", 'positive')"
      ]
     },
     "execution_count": 8,
     "metadata": {},
     "output_type": "execute_result"
    }
   ],
   "source": [
    "sent = sents[0]\n",
    "label = labels[0]\n",
    "sent, label"
   ]
  },
  {
   "cell_type": "code",
   "execution_count": 9,
   "id": "842a47ef",
   "metadata": {
    "ExecuteTime": {
     "end_time": "2023-06-21T23:56:34.422359Z",
     "start_time": "2023-06-21T23:56:34.401676Z"
    }
   },
   "outputs": [],
   "source": [
    "from textwrap import wrap"
   ]
  },
  {
   "cell_type": "code",
   "execution_count": 10,
   "id": "7e8a397a",
   "metadata": {
    "ExecuteTime": {
     "end_time": "2023-06-21T23:56:35.127549Z",
     "start_time": "2023-06-21T23:56:35.106419Z"
    }
   },
   "outputs": [
    {
     "data": {
      "text/plain": [
       "'\"it \\'s a charming and often affecting journey . \"'"
      ]
     },
     "execution_count": 10,
     "metadata": {},
     "output_type": "execute_result"
    }
   ],
   "source": [
    "repr(sent)"
   ]
  },
  {
   "cell_type": "code",
   "execution_count": 11,
   "id": "2c4c7235",
   "metadata": {
    "ExecuteTime": {
     "end_time": "2023-06-21T23:56:35.689928Z",
     "start_time": "2023-06-21T23:56:35.668237Z"
    }
   },
   "outputs": [
    {
     "data": {
      "text/plain": [
       "[275, 364, 82, 264, 35509, 323, 3629, 28987, 11879, 662, 220]"
      ]
     },
     "execution_count": 11,
     "metadata": {},
     "output_type": "execute_result"
    }
   ],
   "source": [
    "enc.encode(sent)"
   ]
  },
  {
   "cell_type": "code",
   "execution_count": 12,
   "id": "ff31c085",
   "metadata": {
    "ExecuteTime": {
     "end_time": "2023-06-21T23:56:36.255844Z",
     "start_time": "2023-06-21T23:56:36.234212Z"
    }
   },
   "outputs": [
    {
     "data": {
      "text/plain": [
       "'\"it \\'s a charming and often affecting journey .\"'"
      ]
     },
     "execution_count": 12,
     "metadata": {},
     "output_type": "execute_result"
    }
   ],
   "source": [
    "wrapped_sent = wrap(sent, replace_whitespace=True, drop_whitespace=True)[0]\n",
    "repr(wrapped_sent)"
   ]
  },
  {
   "cell_type": "code",
   "execution_count": 13,
   "id": "d49819b8",
   "metadata": {
    "ExecuteTime": {
     "end_time": "2023-06-21T23:56:36.869942Z",
     "start_time": "2023-06-21T23:56:36.847846Z"
    }
   },
   "outputs": [
    {
     "data": {
      "text/plain": [
       "[275, 364, 82, 264, 35509, 323, 3629, 28987, 11879, 662]"
      ]
     },
     "execution_count": 13,
     "metadata": {},
     "output_type": "execute_result"
    }
   ],
   "source": [
    "enc.encode(wrapped_sent)"
   ]
  },
  {
   "cell_type": "code",
   "execution_count": 14,
   "id": "70f2c93c",
   "metadata": {
    "ExecuteTime": {
     "end_time": "2023-06-21T23:56:37.498584Z",
     "start_time": "2023-06-21T23:56:37.452054Z"
    }
   },
   "outputs": [],
   "source": [
    "wrapped_sents = [wrap(sent, replace_whitespace=True, drop_whitespace=True)[0] for sent in sents]"
   ]
  },
  {
   "cell_type": "code",
   "execution_count": 15,
   "id": "eb4ce14b",
   "metadata": {
    "ExecuteTime": {
     "end_time": "2023-06-21T23:56:40.642274Z",
     "start_time": "2023-06-21T23:56:40.619500Z"
    }
   },
   "outputs": [],
   "source": [
    "def my_classifier(text: str) -> str:\n",
    "    return openai.ChatCompletion.create(\n",
    "    model='gpt-3.5-turbo',\n",
    "    messages=[\n",
    "        {\n",
    "            'role': 'system',\n",
    "            'content': 'Given this text, what is the sentiment conveyed? Is it positive or negative?'\n",
    "        },\n",
    "        {\n",
    "        'role':'user',\n",
    "        'content':text\n",
    "    }],\n",
    "    logit_bias={\n",
    "        '31587': 100,    # 31587 is the token for `positive`\n",
    "        '43324': 100     # 43324 is the token for `negative`\n",
    "    },\n",
    "    max_tokens=1,\n",
    "    temperature=0\n",
    ").choices[0].message.content"
   ]
  },
  {
   "cell_type": "code",
   "execution_count": 16,
   "id": "3892d076",
   "metadata": {
    "ExecuteTime": {
     "end_time": "2023-06-21T23:56:42.274208Z",
     "start_time": "2023-06-21T23:56:41.797843Z"
    }
   },
   "outputs": [
    {
     "data": {
      "text/plain": [
       "'positive'"
      ]
     },
     "execution_count": 16,
     "metadata": {},
     "output_type": "execute_result"
    }
   ],
   "source": [
    "my_classifier(wrapped_sent)"
   ]
  },
  {
   "cell_type": "code",
   "execution_count": 17,
   "id": "3c8f300c",
   "metadata": {
    "ExecuteTime": {
     "end_time": "2023-06-21T23:56:42.976638Z",
     "start_time": "2023-06-21T23:56:42.952192Z"
    }
   },
   "outputs": [
    {
     "data": {
      "text/plain": [
       "'positive'"
      ]
     },
     "execution_count": 17,
     "metadata": {},
     "output_type": "execute_result"
    }
   ],
   "source": [
    "labels[0]"
   ]
  },
  {
   "cell_type": "code",
   "execution_count": 18,
   "id": "7b6e3f8f",
   "metadata": {
    "ExecuteTime": {
     "end_time": "2023-06-21T23:56:46.427939Z",
     "start_time": "2023-06-21T23:56:46.407515Z"
    }
   },
   "outputs": [],
   "source": [
    "import time"
   ]
  },
  {
   "cell_type": "code",
   "execution_count": null,
   "id": "06b46dbb",
   "metadata": {
    "ExecuteTime": {
     "start_time": "2023-06-22T00:04:26.517Z"
    },
    "scrolled": true
   },
   "outputs": [],
   "source": [
    "preds = []\n",
    "for i, wrapped_sent in enumerate(wrapped_sents):\n",
    "    try:\n",
    "        preds.append(my_classifier(wrapped_sent))\n",
    "    except:\n",
    "        preds.append(np.nan)\n",
    "        time.sleep(5)"
   ]
  },
  {
   "cell_type": "code",
   "execution_count": 27,
   "id": "a63d4cbd",
   "metadata": {
    "ExecuteTime": {
     "end_time": "2023-06-21T23:51:22.836625Z",
     "start_time": "2023-06-21T23:51:22.814337Z"
    }
   },
   "outputs": [
    {
     "data": {
      "text/plain": [
       "0.8560606060606061"
      ]
     },
     "execution_count": 27,
     "metadata": {},
     "output_type": "execute_result"
    }
   ],
   "source": [
    "import numpy as np\n",
    "\n",
    "np.mean([labels[i] == preds[i] for i in range(len(preds))])"
   ]
  }
 ],
 "metadata": {
  "kernelspec": {
   "display_name": "Python [conda env:langchain]",
   "language": "python",
   "name": "conda-env-langchain-py"
  },
  "language_info": {
   "codemirror_mode": {
    "name": "ipython",
    "version": 3
   },
   "file_extension": ".py",
   "mimetype": "text/x-python",
   "name": "python",
   "nbconvert_exporter": "python",
   "pygments_lexer": "ipython3",
   "version": "3.11.3"
  },
  "varInspector": {
   "cols": {
    "lenName": 16,
    "lenType": 16,
    "lenVar": 40
   },
   "kernels_config": {
    "python": {
     "delete_cmd_postfix": "",
     "delete_cmd_prefix": "del ",
     "library": "var_list.py",
     "varRefreshCmd": "print(var_dic_list())"
    },
    "r": {
     "delete_cmd_postfix": ") ",
     "delete_cmd_prefix": "rm(",
     "library": "var_list.r",
     "varRefreshCmd": "cat(var_dic_list()) "
    }
   },
   "types_to_exclude": [
    "module",
    "function",
    "builtin_function_or_method",
    "instance",
    "_Feature"
   ],
   "window_display": false
  }
 },
 "nbformat": 4,
 "nbformat_minor": 5
}

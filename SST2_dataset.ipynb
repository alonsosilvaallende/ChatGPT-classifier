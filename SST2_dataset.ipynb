{
 "cells": [
  {
   "cell_type": "code",
   "execution_count": 1,
   "id": "093bbbd8",
   "metadata": {
    "ExecuteTime": {
     "end_time": "2023-06-21T23:56:24.528105Z",
     "start_time": "2023-06-21T23:56:24.506404Z"
    }
   },
   "outputs": [],
   "source": [
    "%load_ext autoreload\n",
    "%autoreload 2"
   ]
  },
  {
   "cell_type": "code",
   "execution_count": 2,
   "id": "48e05fa3",
   "metadata": {
    "ExecuteTime": {
     "end_time": "2023-06-21T23:56:25.063979Z",
     "start_time": "2023-06-21T23:56:25.039868Z"
    }
   },
   "outputs": [
    {
     "data": {
      "text/plain": [
       "True"
      ]
     },
     "execution_count": 2,
     "metadata": {},
     "output_type": "execute_result"
    }
   ],
   "source": [
    "# get environment variable: OPENAI_API_KEY\n",
    "from dotenv import load_dotenv\n",
    "load_dotenv() "
   ]
  },
  {
   "cell_type": "code",
   "execution_count": 3,
   "id": "6998460a",
   "metadata": {
    "ExecuteTime": {
     "end_time": "2023-06-21T23:56:26.035478Z",
     "start_time": "2023-06-21T23:56:25.934863Z"
    }
   },
   "outputs": [],
   "source": [
    "import tiktoken\n",
    "import openai"
   ]
  },
  {
   "cell_type": "code",
   "execution_count": 4,
   "id": "427ac1c6",
   "metadata": {
    "ExecuteTime": {
     "end_time": "2023-06-21T23:56:26.722254Z",
     "start_time": "2023-06-21T23:56:26.491396Z"
    }
   },
   "outputs": [
    {
     "data": {
      "text/plain": [
       "([31587], [43324])"
      ]
     },
     "execution_count": 4,
     "metadata": {},
     "output_type": "execute_result"
    }
   ],
   "source": [
    "# find tokens for 'positive' and 'negative'\n",
    "enc = tiktoken.encoding_for_model(\"gpt-3.5-turbo\")\n",
    "enc.encode(\"positive\"), enc.encode(\"negative\") "
   ]
  },
  {
   "cell_type": "code",
   "execution_count": 5,
   "id": "54253bd5",
   "metadata": {
    "ExecuteTime": {
     "end_time": "2023-06-21T23:56:30.553083Z",
     "start_time": "2023-06-21T23:56:27.917751Z"
    }
   },
   "outputs": [
    {
     "name": "stderr",
     "output_type": "stream",
     "text": [
      "Found cached dataset sst2 (/home/survival/.cache/huggingface/datasets/sst2/default/2.0.0/9896208a8d85db057ac50c72282bcb8fe755accc671a57dd8059d4e130961ed5)\n"
     ]
    },
    {
     "data": {
      "application/vnd.jupyter.widget-view+json": {
       "model_id": "ba3963bccb774ea996ddd5a96a57b206",
       "version_major": 2,
       "version_minor": 0
      },
      "text/plain": [
       "  0%|          | 0/3 [00:00<?, ?it/s]"
      ]
     },
     "metadata": {},
     "output_type": "display_data"
    }
   ],
   "source": [
    "# download dataset from hf datasets https://github.com/huggingface/datasets\n",
    "# !pip install datasets \n",
    "from datasets import load_dataset\n",
    "\n",
    "dataset = load_dataset(\"sst2\")"
   ]
  },
  {
   "cell_type": "code",
   "execution_count": 6,
   "id": "5712eaf3",
   "metadata": {
    "ExecuteTime": {
     "end_time": "2023-06-21T23:56:31.801701Z",
     "start_time": "2023-06-21T23:56:31.778962Z"
    }
   },
   "outputs": [
    {
     "data": {
      "text/plain": [
       "Dataset({\n",
       "    features: ['idx', 'sentence', 'label'],\n",
       "    num_rows: 872\n",
       "})"
      ]
     },
     "execution_count": 6,
     "metadata": {},
     "output_type": "execute_result"
    }
   ],
   "source": [
    "val_data = dataset[\"validation\"]\n",
    "val_data"
   ]
  },
  {
   "cell_type": "code",
   "execution_count": 7,
   "id": "285d6efb",
   "metadata": {
    "ExecuteTime": {
     "end_time": "2023-06-21T23:56:32.833803Z",
     "start_time": "2023-06-21T23:56:32.751039Z"
    }
   },
   "outputs": [],
   "source": [
    "# sentimentid2sentimentlabel = {\"0\": \"negative\", \"1\": \"positive\"}\n",
    "sents, labels = [], []\n",
    "for idx in range(len(val_data)):\n",
    "    sents.append(val_data[idx][\"sentence\"])\n",
    "    label = val_data[idx][\"label\"]\n",
    "    if label == 0:\n",
    "        labels.append('negative')\n",
    "    else:\n",
    "        labels.append('positive')"
   ]
  },
  {
   "cell_type": "code",
   "execution_count": 8,
   "id": "6a8db11a",
   "metadata": {
    "ExecuteTime": {
     "end_time": "2023-06-21T23:56:33.564463Z",
     "start_time": "2023-06-21T23:56:33.542916Z"
    }
   },
   "outputs": [
    {
     "data": {
      "text/plain": [
       "(\"it 's a charming and often affecting journey . \", 'positive')"
      ]
     },
     "execution_count": 8,
     "metadata": {},
     "output_type": "execute_result"
    }
   ],
   "source": [
    "sent = sents[0]\n",
    "label = labels[0]\n",
    "sent, label"
   ]
  },
  {
   "cell_type": "code",
   "execution_count": 9,
   "id": "be818399",
   "metadata": {
    "ExecuteTime": {
     "end_time": "2023-06-21T23:56:34.422359Z",
     "start_time": "2023-06-21T23:56:34.401676Z"
    }
   },
   "outputs": [],
   "source": [
    "from textwrap import wrap"
   ]
  },
  {
   "cell_type": "code",
   "execution_count": 10,
   "id": "45ef6d83",
   "metadata": {
    "ExecuteTime": {
     "end_time": "2023-06-21T23:56:35.127549Z",
     "start_time": "2023-06-21T23:56:35.106419Z"
    }
   },
   "outputs": [
    {
     "data": {
      "text/plain": [
       "'\"it \\'s a charming and often affecting journey . \"'"
      ]
     },
     "execution_count": 10,
     "metadata": {},
     "output_type": "execute_result"
    }
   ],
   "source": [
    "repr(sent)"
   ]
  },
  {
   "cell_type": "code",
   "execution_count": 11,
   "id": "b2632c0c",
   "metadata": {
    "ExecuteTime": {
     "end_time": "2023-06-21T23:56:35.689928Z",
     "start_time": "2023-06-21T23:56:35.668237Z"
    }
   },
   "outputs": [
    {
     "data": {
      "text/plain": [
       "[275, 364, 82, 264, 35509, 323, 3629, 28987, 11879, 662, 220]"
      ]
     },
     "execution_count": 11,
     "metadata": {},
     "output_type": "execute_result"
    }
   ],
   "source": [
    "enc.encode(sent)"
   ]
  },
  {
   "cell_type": "code",
   "execution_count": 12,
   "id": "a924cd46",
   "metadata": {
    "ExecuteTime": {
     "end_time": "2023-06-21T23:56:36.255844Z",
     "start_time": "2023-06-21T23:56:36.234212Z"
    }
   },
   "outputs": [
    {
     "data": {
      "text/plain": [
       "'\"it \\'s a charming and often affecting journey .\"'"
      ]
     },
     "execution_count": 12,
     "metadata": {},
     "output_type": "execute_result"
    }
   ],
   "source": [
    "wrapped_sent = wrap(sent, replace_whitespace=True, drop_whitespace=True)[0]\n",
    "repr(wrapped_sent)"
   ]
  },
  {
   "cell_type": "code",
   "execution_count": 13,
   "id": "df6fb1b8",
   "metadata": {
    "ExecuteTime": {
     "end_time": "2023-06-21T23:56:36.869942Z",
     "start_time": "2023-06-21T23:56:36.847846Z"
    }
   },
   "outputs": [
    {
     "data": {
      "text/plain": [
       "[275, 364, 82, 264, 35509, 323, 3629, 28987, 11879, 662]"
      ]
     },
     "execution_count": 13,
     "metadata": {},
     "output_type": "execute_result"
    }
   ],
   "source": [
    "enc.encode(wrapped_sent)"
   ]
  },
  {
   "cell_type": "code",
   "execution_count": 14,
   "id": "015dcd25",
   "metadata": {
    "ExecuteTime": {
     "end_time": "2023-06-21T23:56:37.498584Z",
     "start_time": "2023-06-21T23:56:37.452054Z"
    }
   },
   "outputs": [],
   "source": [
    "wrapped_sents = [wrap(sent, replace_whitespace=True, drop_whitespace=True)[0] for sent in sents]"
   ]
  },
  {
   "cell_type": "code",
   "execution_count": 15,
   "id": "d2fed6b0",
   "metadata": {
    "ExecuteTime": {
     "end_time": "2023-06-21T23:56:40.642274Z",
     "start_time": "2023-06-21T23:56:40.619500Z"
    }
   },
   "outputs": [],
   "source": [
    "def my_classifier(text: str) -> str:\n",
    "    return openai.ChatCompletion.create(\n",
    "    model='gpt-3.5-turbo',\n",
    "    messages=[\n",
    "        {\n",
    "            'role': 'system',\n",
    "            'content': 'Given this text, what is the sentiment conveyed? Is it positive or negative?'\n",
    "        },\n",
    "        {\n",
    "        'role':'user',\n",
    "        'content':text\n",
    "    }],\n",
    "    logit_bias={\n",
    "        '31587': 100,    # 31587 is the token for `positive`\n",
    "        '43324': 100     # 43324 is the token for `negative`\n",
    "    },\n",
    "    max_tokens=1,\n",
    "    temperature=0\n",
    ").choices[0].message.content"
   ]
  },
  {
   "cell_type": "code",
   "execution_count": 16,
   "id": "aa6fb0d2",
   "metadata": {
    "ExecuteTime": {
     "end_time": "2023-06-21T23:56:42.274208Z",
     "start_time": "2023-06-21T23:56:41.797843Z"
    }
   },
   "outputs": [
    {
     "data": {
      "text/plain": [
       "'positive'"
      ]
     },
     "execution_count": 16,
     "metadata": {},
     "output_type": "execute_result"
    }
   ],
   "source": [
    "my_classifier(wrapped_sent)"
   ]
  },
  {
   "cell_type": "code",
   "execution_count": 17,
   "id": "5676d99e",
   "metadata": {
    "ExecuteTime": {
     "end_time": "2023-06-21T23:56:42.976638Z",
     "start_time": "2023-06-21T23:56:42.952192Z"
    }
   },
   "outputs": [
    {
     "data": {
      "text/plain": [
       "'positive'"
      ]
     },
     "execution_count": 17,
     "metadata": {},
     "output_type": "execute_result"
    }
   ],
   "source": [
    "labels[0]"
   ]
  },
  {
   "cell_type": "code",
   "execution_count": 18,
   "id": "566fa7f0",
   "metadata": {
    "ExecuteTime": {
     "end_time": "2023-06-21T23:56:46.427939Z",
     "start_time": "2023-06-21T23:56:46.407515Z"
    }
   },
   "outputs": [],
   "source": [
    "import time"
   ]
  },
  {
   "cell_type": "code",
   "execution_count": 19,
   "id": "984df0ec",
   "metadata": {
    "ExecuteTime": {
     "end_time": "2023-06-22T00:10:59.681997Z",
     "start_time": "2023-06-21T23:56:48.779146Z"
    },
    "scrolled": true
   },
   "outputs": [],
   "source": [
    "preds = []\n",
    "for i, wrapped_sent in enumerate(wrapped_sents):\n",
    "    try:\n",
    "        preds.append(my_classifier(wrapped_sent))\n",
    "    except:\n",
    "        preds.append(np.nan)\n",
    "        time.sleep(5)"
   ]
  },
  {
   "cell_type": "code",
   "execution_count": 23,
   "id": "a72284a2",
   "metadata": {
    "ExecuteTime": {
     "end_time": "2023-06-22T07:12:13.188328Z",
     "start_time": "2023-06-22T07:12:13.167111Z"
    }
   },
   "outputs": [
    {
     "data": {
      "text/plain": [
       "(872, 872)"
      ]
     },
     "execution_count": 23,
     "metadata": {},
     "output_type": "execute_result"
    }
   ],
   "source": [
    "len(preds), len(labels)"
   ]
  },
  {
   "cell_type": "code",
   "execution_count": 34,
   "id": "20225d13",
   "metadata": {
    "ExecuteTime": {
     "end_time": "2023-06-22T07:17:25.821675Z",
     "start_time": "2023-06-22T07:17:25.801866Z"
    }
   },
   "outputs": [],
   "source": [
    "import pandas as pd"
   ]
  },
  {
   "cell_type": "code",
   "execution_count": 37,
   "id": "e01c1505",
   "metadata": {
    "ExecuteTime": {
     "end_time": "2023-06-22T07:18:14.421303Z",
     "start_time": "2023-06-22T07:18:14.398062Z"
    }
   },
   "outputs": [
    {
     "data": {
      "text/plain": [
       "[10, 22, 242, 304, 471]"
      ]
     },
     "execution_count": 37,
     "metadata": {},
     "output_type": "execute_result"
    }
   ],
   "source": [
    "missing = [i for i, pred in enumerate(preds) if pd.isna(pred)]\n",
    "missing"
   ]
  },
  {
   "cell_type": "code",
   "execution_count": 45,
   "id": "796ba22e",
   "metadata": {
    "ExecuteTime": {
     "end_time": "2023-06-22T07:22:03.588253Z",
     "start_time": "2023-06-22T07:22:01.670505Z"
    }
   },
   "outputs": [],
   "source": [
    "missing_preds = []\n",
    "for idx in missing:\n",
    "    try:\n",
    "        missing_preds.append(my_classifier(wrapped_sents[idx]))\n",
    "    except:\n",
    "        missing_preds.append(np.nan)"
   ]
  },
  {
   "cell_type": "code",
   "execution_count": 46,
   "id": "5a3e7a79",
   "metadata": {
    "ExecuteTime": {
     "end_time": "2023-06-22T07:22:04.323702Z",
     "start_time": "2023-06-22T07:22:04.302742Z"
    }
   },
   "outputs": [
    {
     "data": {
      "text/plain": [
       "['positive', 'negative', 'negative', 'positive', 'negative']"
      ]
     },
     "execution_count": 46,
     "metadata": {},
     "output_type": "execute_result"
    }
   ],
   "source": [
    "missing_preds"
   ]
  },
  {
   "cell_type": "code",
   "execution_count": 50,
   "id": "443d89fd",
   "metadata": {
    "ExecuteTime": {
     "end_time": "2023-06-22T07:23:58.809867Z",
     "start_time": "2023-06-22T07:23:58.789154Z"
    }
   },
   "outputs": [],
   "source": [
    "for i, idx in enumerate(missing):\n",
    "    preds[idx] = missing_preds[i]"
   ]
  },
  {
   "cell_type": "code",
   "execution_count": 52,
   "id": "009914bc",
   "metadata": {
    "ExecuteTime": {
     "end_time": "2023-06-22T07:24:28.485345Z",
     "start_time": "2023-06-22T07:24:28.460946Z"
    }
   },
   "outputs": [
    {
     "data": {
      "text/plain": [
       "0.8360091743119266"
      ]
     },
     "execution_count": 52,
     "metadata": {},
     "output_type": "execute_result"
    }
   ],
   "source": [
    "import numpy as np\n",
    "\n",
    "np.mean([labels[i] == preds[i] for i in range(len(preds))])"
   ]
  },
  {
   "cell_type": "code",
   "execution_count": 55,
   "id": "90657117",
   "metadata": {
    "ExecuteTime": {
     "end_time": "2023-06-22T07:27:55.067320Z",
     "start_time": "2023-06-22T07:27:55.036960Z"
    }
   },
   "outputs": [],
   "source": [
    "results = pd.DataFrame()\n",
    "results[\"sentence\"] = sents\n",
    "results[\"label\"] = labels\n",
    "results[\"predictions\"] = preds"
   ]
  },
  {
   "cell_type": "code",
   "execution_count": 60,
   "id": "a437461b",
   "metadata": {
    "ExecuteTime": {
     "end_time": "2023-06-22T07:30:02.891435Z",
     "start_time": "2023-06-22T07:30:02.861871Z"
    }
   },
   "outputs": [
    {
     "data": {
      "text/html": [
       "<div>\n",
       "<style scoped>\n",
       "    .dataframe tbody tr th:only-of-type {\n",
       "        vertical-align: middle;\n",
       "    }\n",
       "\n",
       "    .dataframe tbody tr th {\n",
       "        vertical-align: top;\n",
       "    }\n",
       "\n",
       "    .dataframe thead th {\n",
       "        text-align: right;\n",
       "    }\n",
       "</style>\n",
       "<table border=\"1\" class=\"dataframe\">\n",
       "  <thead>\n",
       "    <tr style=\"text-align: right;\">\n",
       "      <th></th>\n",
       "      <th>sentence</th>\n",
       "      <th>label</th>\n",
       "      <th>predictions</th>\n",
       "    </tr>\n",
       "  </thead>\n",
       "  <tbody>\n",
       "    <tr>\n",
       "      <th>0</th>\n",
       "      <td>it 's a charming and often affecting journey .</td>\n",
       "      <td>positive</td>\n",
       "      <td>positive</td>\n",
       "    </tr>\n",
       "    <tr>\n",
       "      <th>1</th>\n",
       "      <td>unflinchingly bleak and desperate</td>\n",
       "      <td>negative</td>\n",
       "      <td>negative</td>\n",
       "    </tr>\n",
       "    <tr>\n",
       "      <th>2</th>\n",
       "      <td>allows us to hope that nolan is poised to emba...</td>\n",
       "      <td>positive</td>\n",
       "      <td>positive</td>\n",
       "    </tr>\n",
       "    <tr>\n",
       "      <th>3</th>\n",
       "      <td>the acting , costumes , music , cinematography...</td>\n",
       "      <td>positive</td>\n",
       "      <td>positive</td>\n",
       "    </tr>\n",
       "    <tr>\n",
       "      <th>4</th>\n",
       "      <td>it 's slow -- very , very slow .</td>\n",
       "      <td>negative</td>\n",
       "      <td>negative</td>\n",
       "    </tr>\n",
       "    <tr>\n",
       "      <th>5</th>\n",
       "      <td>although laced with humor and a few fanciful t...</td>\n",
       "      <td>positive</td>\n",
       "      <td>negative</td>\n",
       "    </tr>\n",
       "    <tr>\n",
       "      <th>6</th>\n",
       "      <td>a sometimes tedious film .</td>\n",
       "      <td>negative</td>\n",
       "      <td>negative</td>\n",
       "    </tr>\n",
       "    <tr>\n",
       "      <th>7</th>\n",
       "      <td>or doing last year 's taxes with your ex-wife .</td>\n",
       "      <td>negative</td>\n",
       "      <td>negative</td>\n",
       "    </tr>\n",
       "    <tr>\n",
       "      <th>8</th>\n",
       "      <td>you do n't have to know about music to appreci...</td>\n",
       "      <td>positive</td>\n",
       "      <td>positive</td>\n",
       "    </tr>\n",
       "    <tr>\n",
       "      <th>9</th>\n",
       "      <td>in exactly 89 minutes , most of which passed a...</td>\n",
       "      <td>negative</td>\n",
       "      <td>negative</td>\n",
       "    </tr>\n",
       "  </tbody>\n",
       "</table>\n",
       "</div>"
      ],
      "text/plain": [
       "                                            sentence     label predictions\n",
       "0    it 's a charming and often affecting journey .   positive    positive\n",
       "1                 unflinchingly bleak and desperate   negative    negative\n",
       "2  allows us to hope that nolan is poised to emba...  positive    positive\n",
       "3  the acting , costumes , music , cinematography...  positive    positive\n",
       "4                  it 's slow -- very , very slow .   negative    negative\n",
       "5  although laced with humor and a few fanciful t...  positive    negative\n",
       "6                        a sometimes tedious film .   negative    negative\n",
       "7   or doing last year 's taxes with your ex-wife .   negative    negative\n",
       "8  you do n't have to know about music to appreci...  positive    positive\n",
       "9  in exactly 89 minutes , most of which passed a...  negative    negative"
      ]
     },
     "execution_count": 60,
     "metadata": {},
     "output_type": "execute_result"
    }
   ],
   "source": [
    "results.head(10)"
   ]
  },
  {
   "cell_type": "code",
   "execution_count": 74,
   "id": "e138d477",
   "metadata": {
    "ExecuteTime": {
     "end_time": "2023-06-22T07:42:11.968498Z",
     "start_time": "2023-06-22T07:42:11.941247Z"
    }
   },
   "outputs": [],
   "source": [
    "results.to_csv(\"./outputs/SST2_dataset_results.csv\", index=False)"
   ]
  }
 ],
 "metadata": {
  "kernelspec": {
   "display_name": "Python [conda env:langchain]",
   "language": "python",
   "name": "conda-env-langchain-py"
  },
  "language_info": {
   "codemirror_mode": {
    "name": "ipython",
    "version": 3
   },
   "file_extension": ".py",
   "mimetype": "text/x-python",
   "name": "python",
   "nbconvert_exporter": "python",
   "pygments_lexer": "ipython3",
   "version": "3.11.3"
  },
  "varInspector": {
   "cols": {
    "lenName": 16,
    "lenType": 16,
    "lenVar": 40
   },
   "kernels_config": {
    "python": {
     "delete_cmd_postfix": "",
     "delete_cmd_prefix": "del ",
     "library": "var_list.py",
     "varRefreshCmd": "print(var_dic_list())"
    },
    "r": {
     "delete_cmd_postfix": ") ",
     "delete_cmd_prefix": "rm(",
     "library": "var_list.r",
     "varRefreshCmd": "cat(var_dic_list()) "
    }
   },
   "types_to_exclude": [
    "module",
    "function",
    "builtin_function_or_method",
    "instance",
    "_Feature"
   ],
   "window_display": false
  }
 },
 "nbformat": 4,
 "nbformat_minor": 5
}

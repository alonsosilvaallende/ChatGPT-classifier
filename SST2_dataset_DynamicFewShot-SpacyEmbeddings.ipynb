{
 "cells": [
  {
   "cell_type": "code",
   "execution_count": 1,
   "id": "3e393456",
   "metadata": {
    "ExecuteTime": {
     "end_time": "2023-07-13T10:57:18.481297Z",
     "start_time": "2023-07-13T10:57:18.460543Z"
    }
   },
   "outputs": [],
   "source": [
    "%load_ext autoreload\n",
    "%autoreload 2"
   ]
  },
  {
   "cell_type": "code",
   "execution_count": 2,
   "id": "6a8c28a6",
   "metadata": {
    "ExecuteTime": {
     "end_time": "2023-07-13T10:57:20.798185Z",
     "start_time": "2023-07-13T10:57:18.483882Z"
    }
   },
   "outputs": [
    {
     "name": "stderr",
     "output_type": "stream",
     "text": [
      "Found cached dataset sst2 (/home/survival/.cache/huggingface/datasets/sst2/default/2.0.0/9896208a8d85db057ac50c72282bcb8fe755accc671a57dd8059d4e130961ed5)\n"
     ]
    },
    {
     "data": {
      "application/vnd.jupyter.widget-view+json": {
       "model_id": "1f253941bdfd4aec939f714c39142080",
       "version_major": 2,
       "version_minor": 0
      },
      "text/plain": [
       "  0%|          | 0/3 [00:00<?, ?it/s]"
      ]
     },
     "metadata": {},
     "output_type": "display_data"
    }
   ],
   "source": [
    "from datasets import load_dataset\n",
    "\n",
    "dataset = load_dataset(\"sst2\")"
   ]
  },
  {
   "cell_type": "code",
   "execution_count": 3,
   "id": "381ba160",
   "metadata": {
    "ExecuteTime": {
     "end_time": "2023-07-13T10:57:20.808931Z",
     "start_time": "2023-07-13T10:57:20.799127Z"
    }
   },
   "outputs": [],
   "source": [
    "trn_data = dataset[\"train\"]\n",
    "val_data = dataset[\"validation\"]"
   ]
  },
  {
   "cell_type": "code",
   "execution_count": 4,
   "id": "eb00ed8c",
   "metadata": {
    "ExecuteTime": {
     "end_time": "2023-07-13T10:57:24.990223Z",
     "start_time": "2023-07-13T10:57:20.810088Z"
    }
   },
   "outputs": [],
   "source": [
    "# sentimentid2sentimentlabel = {\"0\": \"negative\", \"1\": \"positive\"}\n",
    "sents_trn, labels_trn = [], []\n",
    "for idx in range(len(trn_data)):\n",
    "    sents_trn.append(trn_data[idx][\"sentence\"])\n",
    "    label_trn = trn_data[idx][\"label\"]\n",
    "    if label_trn == 0:\n",
    "        labels_trn.append('negative')\n",
    "    else:\n",
    "        labels_trn.append('positive')"
   ]
  },
  {
   "cell_type": "code",
   "execution_count": 5,
   "id": "6ca2cd36",
   "metadata": {
    "ExecuteTime": {
     "end_time": "2023-07-13T10:57:25.057169Z",
     "start_time": "2023-07-13T10:57:24.991403Z"
    }
   },
   "outputs": [],
   "source": [
    "# sentimentid2sentimentlabel = {\"0\": \"negative\", \"1\": \"positive\"}\n",
    "sents, labels = [], []\n",
    "for idx in range(len(val_data)):\n",
    "    sents.append(val_data[idx][\"sentence\"])\n",
    "    label = val_data[idx][\"label\"]\n",
    "    if label == 0:\n",
    "        labels.append('negative')\n",
    "    else:\n",
    "        labels.append('positive')"
   ]
  },
  {
   "cell_type": "code",
   "execution_count": 6,
   "id": "dcecccc1",
   "metadata": {
    "ExecuteTime": {
     "end_time": "2023-07-13T10:57:25.085977Z",
     "start_time": "2023-07-13T10:57:25.058366Z"
    }
   },
   "outputs": [],
   "source": [
    "import pandas as pd\n",
    "\n",
    "results = pd.DataFrame()\n",
    "results[\"sentence\"] = sents_trn\n",
    "results[\"label\"] = labels_trn\n",
    "\n",
    "results_positive = results[results[\"label\"] == \"positive\"]\n",
    "results_negative = results[results[\"label\"] == \"negative\"]"
   ]
  },
  {
   "cell_type": "code",
   "execution_count": 7,
   "id": "152659d4",
   "metadata": {
    "ExecuteTime": {
     "end_time": "2023-07-13T10:57:27.677946Z",
     "start_time": "2023-07-13T10:57:25.087687Z"
    }
   },
   "outputs": [],
   "source": [
    "from langchain.embeddings.spacy_embeddings import SpacyEmbeddings\n",
    "\n",
    "embedder = SpacyEmbeddings()"
   ]
  },
  {
   "cell_type": "code",
   "execution_count": 8,
   "id": "38390a0c",
   "metadata": {
    "ExecuteTime": {
     "end_time": "2023-07-13T10:57:27.697702Z",
     "start_time": "2023-07-13T10:57:27.679450Z"
    }
   },
   "outputs": [],
   "source": [
    "# run it only the first time\n",
    "# embeddings_positive = embedder.embed_documents(list(results_positive[\"sentence\"]))\n",
    "# embeddings_negative = embedder.embed_documents(list(results_negative[\"sentence\"]))\n",
    "# df_embeddings_positive = pd.DataFrame(embeddings_positive)\n",
    "# df_embeddings_negative = pd.DataFrame(embeddings_negative)\n",
    "# df_embeddings_positive.to_pickle(\"./outputs/embeddings_positive.pkl\")\n",
    "# df_embeddings_negative.to_pickle(\"./outputs/embeddings_negative.pkl\")"
   ]
  },
  {
   "cell_type": "code",
   "execution_count": 9,
   "id": "1daf3648",
   "metadata": {
    "ExecuteTime": {
     "end_time": "2023-07-13T10:57:29.514606Z",
     "start_time": "2023-07-13T10:57:27.699575Z"
    }
   },
   "outputs": [],
   "source": [
    "df_embeddings_positive = pd.read_pickle(\"./outputs/embeddings_positive.pkl\")\n",
    "df_embeddings_negative = pd.read_pickle(\"./outputs/embeddings_negative.pkl\")\n",
    "embeddings_positive = [list(df_embeddings_positive.iloc[i]) for i in range(df_embeddings_positive.shape[0])]\n",
    "embeddings_negative = [list(df_embeddings_negative.iloc[i]) for i in range(df_embeddings_negative.shape[0])]"
   ]
  },
  {
   "cell_type": "code",
   "execution_count": 10,
   "id": "71167041",
   "metadata": {
    "ExecuteTime": {
     "end_time": "2023-07-13T10:57:29.537280Z",
     "start_time": "2023-07-13T10:57:29.517165Z"
    }
   },
   "outputs": [],
   "source": [
    "f = len(embeddings_positive[0])"
   ]
  },
  {
   "cell_type": "code",
   "execution_count": 11,
   "id": "10a71fc7",
   "metadata": {
    "ExecuteTime": {
     "end_time": "2023-07-13T10:57:29.621731Z",
     "start_time": "2023-07-13T10:57:29.538326Z"
    }
   },
   "outputs": [],
   "source": [
    "from annoy import AnnoyIndex\n",
    "\n",
    "t_positive = AnnoyIndex(f, 'angular')\n",
    "for i in range(len(embeddings_positive)):\n",
    "    t_positive.add_item(i, embeddings_positive[i])"
   ]
  },
  {
   "cell_type": "code",
   "execution_count": 12,
   "id": "e1bfa469",
   "metadata": {
    "ExecuteTime": {
     "end_time": "2023-07-13T10:57:29.692759Z",
     "start_time": "2023-07-13T10:57:29.622990Z"
    }
   },
   "outputs": [],
   "source": [
    "t_negative = AnnoyIndex(f, 'angular')\n",
    "for i in range(len(embeddings_negative)):\n",
    "    t_negative.add_item(i, embeddings_negative[i])"
   ]
  },
  {
   "cell_type": "code",
   "execution_count": 13,
   "id": "49f189cf",
   "metadata": {
    "ExecuteTime": {
     "end_time": "2023-07-13T10:57:30.116338Z",
     "start_time": "2023-07-13T10:57:29.694617Z"
    }
   },
   "outputs": [
    {
     "data": {
      "text/plain": [
       "True"
      ]
     },
     "execution_count": 13,
     "metadata": {},
     "output_type": "execute_result"
    }
   ],
   "source": [
    "t_positive.build(100) # 100 trees\n",
    "t_negative.build(100) # 100 trees"
   ]
  },
  {
   "cell_type": "code",
   "execution_count": 14,
   "id": "db4f6d5d",
   "metadata": {
    "ExecuteTime": {
     "end_time": "2023-07-13T10:57:30.207748Z",
     "start_time": "2023-07-13T10:57:30.117805Z"
    }
   },
   "outputs": [
    {
     "data": {
      "text/plain": [
       "True"
      ]
     },
     "execution_count": 14,
     "metadata": {},
     "output_type": "execute_result"
    }
   ],
   "source": [
    "t_positive.save('t_positive.ann')\n",
    "t_negative.save('t_negative.ann')"
   ]
  },
  {
   "cell_type": "code",
   "execution_count": 15,
   "id": "6f8355c6",
   "metadata": {
    "ExecuteTime": {
     "end_time": "2023-07-13T10:57:30.230203Z",
     "start_time": "2023-07-13T10:57:30.208948Z"
    }
   },
   "outputs": [
    {
     "data": {
      "text/plain": [
       "True"
      ]
     },
     "execution_count": 15,
     "metadata": {},
     "output_type": "execute_result"
    }
   ],
   "source": [
    "u_positive = AnnoyIndex(f, 'angular')\n",
    "u_positive.load('t_positive.ann')\n",
    "u_negative = AnnoyIndex(f, 'angular')\n",
    "u_negative.load('t_negative.ann')"
   ]
  },
  {
   "cell_type": "code",
   "execution_count": 16,
   "id": "f8b1e1ed",
   "metadata": {
    "ExecuteTime": {
     "end_time": "2023-07-13T10:57:30.253192Z",
     "start_time": "2023-07-13T10:57:30.231182Z"
    }
   },
   "outputs": [
    {
     "data": {
      "text/plain": [
       "True"
      ]
     },
     "execution_count": 16,
     "metadata": {},
     "output_type": "execute_result"
    }
   ],
   "source": [
    "# get environment variable: OPENAI_API_KEY\n",
    "from dotenv import load_dotenv, find_dotenv\n",
    "load_dotenv(find_dotenv())"
   ]
  },
  {
   "cell_type": "code",
   "execution_count": 17,
   "id": "ece94203",
   "metadata": {
    "ExecuteTime": {
     "end_time": "2023-07-13T10:57:30.276412Z",
     "start_time": "2023-07-13T10:57:30.254075Z"
    }
   },
   "outputs": [],
   "source": [
    "import os\n",
    "import openai\n",
    "from retry import retry\n",
    "\n",
    "openai.api_key = os.getenv(\"OPENAI_API_KEY\")"
   ]
  },
  {
   "cell_type": "code",
   "execution_count": 18,
   "id": "d95135e5",
   "metadata": {
    "ExecuteTime": {
     "end_time": "2023-07-13T10:57:30.313462Z",
     "start_time": "2023-07-13T10:57:30.278840Z"
    }
   },
   "outputs": [],
   "source": [
    "@retry(tries=10, delay=3)\n",
    "def my_classifier(text: str, n_examples: int) -> str:\n",
    "    query_embedding = embedder.embed_query(text)\n",
    "    neighbors_positive = u_positive.get_nns_by_vector(query_embedding,\n",
    "                                                      n_examples)\n",
    "    neighbors_negative = u_negative.get_nns_by_vector(query_embedding,\n",
    "                                                      n_examples)\n",
    "    template = f\"Your task is to determine what is the sentiment conveyed by a text. Here are some examples:\\n\\n\"\n",
    "    for i in range(n_examples):\n",
    "        template += f\"Text: '{results_positive.iloc[neighbors_positive[i]]['sentence']}'\\nThe sentiment conveyed is: {results_positive.iloc[neighbors_positive[i]]['label']}\\n\\n\"\n",
    "        template += f\"Text: '{results_negative.iloc[neighbors_negative[i]]['sentence']}'\\nThe sentiment conveyed is: {results_negative.iloc[neighbors_negative[i]]['label']}\\n\\n\"\n",
    "    template += f\"Given the following text, what is the sentiment conveyed?:\\n\\nText: '{text}'\\nThe sentiment conveyed is:\"\n",
    "    #     return template\n",
    "    return openai.ChatCompletion.create(\n",
    "        model='gpt-3.5-turbo',\n",
    "        messages=[{\n",
    "            'role':\n",
    "            'system',\n",
    "            'content':\n",
    "            'You are a helpful sentiment analyzer assistant of movie reviews'\n",
    "        }, {\n",
    "            'role': 'user',\n",
    "            'content': f'{template}'\n",
    "        }],\n",
    "        logit_bias={\n",
    "            '31587': 100,  # 31587 is the token for `positive`\n",
    "            '43324': 100  # 43324 is the token for `negative`\n",
    "        },\n",
    "        max_tokens=1,\n",
    "        temperature=0).choices[0].message.content"
   ]
  },
  {
   "cell_type": "code",
   "execution_count": 19,
   "id": "4c14fac5",
   "metadata": {
    "ExecuteTime": {
     "end_time": "2023-07-13T10:57:30.340206Z",
     "start_time": "2023-07-13T10:57:30.314927Z"
    }
   },
   "outputs": [],
   "source": [
    "# i = 0\n",
    "# sents[i], labels[i], my_classifier(sents[i], n_examples=10)"
   ]
  },
  {
   "cell_type": "code",
   "execution_count": 20,
   "id": "171c79a8",
   "metadata": {
    "ExecuteTime": {
     "end_time": "2023-07-13T10:57:30.357293Z",
     "start_time": "2023-07-13T10:57:30.341313Z"
    }
   },
   "outputs": [],
   "source": [
    "import time"
   ]
  },
  {
   "cell_type": "code",
   "execution_count": 21,
   "id": "b9b653f9",
   "metadata": {
    "ExecuteTime": {
     "end_time": "2023-07-13T10:57:36.119156Z",
     "start_time": "2023-07-13T10:57:36.079156Z"
    }
   },
   "outputs": [],
   "source": [
    "n_examples = 3"
   ]
  },
  {
   "cell_type": "code",
   "execution_count": 22,
   "id": "040d97f0",
   "metadata": {
    "ExecuteTime": {
     "end_time": "2023-07-13T11:20:34.828204Z",
     "start_time": "2023-07-13T10:57:39.647697Z"
    }
   },
   "outputs": [],
   "source": [
    "start_time = time.time()\n",
    "preds = [my_classifier(sent, n_examples) for sent in sents]\n",
    "end_time = time.time()"
   ]
  },
  {
   "cell_type": "code",
   "execution_count": 23,
   "id": "285609d2",
   "metadata": {
    "ExecuteTime": {
     "end_time": "2023-07-13T11:23:27.889138Z",
     "start_time": "2023-07-13T11:23:27.846214Z"
    }
   },
   "outputs": [
    {
     "data": {
      "text/plain": [
       "1375.1399705410004"
      ]
     },
     "execution_count": 23,
     "metadata": {},
     "output_type": "execute_result"
    }
   ],
   "source": [
    "end_time - start_time"
   ]
  },
  {
   "cell_type": "code",
   "execution_count": 25,
   "id": "409217aa",
   "metadata": {
    "ExecuteTime": {
     "end_time": "2023-07-13T11:24:15.777489Z",
     "start_time": "2023-07-13T11:24:15.734094Z"
    }
   },
   "outputs": [
    {
     "data": {
      "text/plain": [
       "0.9610091743119266"
      ]
     },
     "execution_count": 25,
     "metadata": {},
     "output_type": "execute_result"
    }
   ],
   "source": [
    "np.mean([preds[i] == labels[i] for i in range(len(labels))])"
   ]
  },
  {
   "cell_type": "code",
   "execution_count": 26,
   "id": "7f405d3a",
   "metadata": {
    "ExecuteTime": {
     "end_time": "2023-07-13T11:24:25.498456Z",
     "start_time": "2023-07-13T11:24:25.445413Z"
    }
   },
   "outputs": [],
   "source": [
    "partial = pd.DataFrame()\n",
    "partial[\"sentence\"] = sents\n",
    "partial[\"label\"] = labels\n",
    "partial[\"preds\"] = preds"
   ]
  },
  {
   "cell_type": "code",
   "execution_count": 27,
   "id": "257aa36b",
   "metadata": {
    "ExecuteTime": {
     "end_time": "2023-07-13T11:24:34.095232Z",
     "start_time": "2023-07-13T11:24:34.053450Z"
    }
   },
   "outputs": [],
   "source": [
    "mistakes = partial[partial[\"label\"] != partial[\"preds\"]]"
   ]
  },
  {
   "cell_type": "code",
   "execution_count": 28,
   "id": "c7b73258",
   "metadata": {
    "ExecuteTime": {
     "end_time": "2023-07-13T11:24:47.680145Z",
     "start_time": "2023-07-13T11:24:47.637785Z"
    }
   },
   "outputs": [],
   "source": [
    "mistakes.to_csv(\"./outputs/mistakes_3_neighbors\", index=False)"
   ]
  }
 ],
 "metadata": {
  "kernelspec": {
   "display_name": "Python [conda env:langchain]",
   "language": "python",
   "name": "conda-env-langchain-py"
  },
  "language_info": {
   "codemirror_mode": {
    "name": "ipython",
    "version": 3
   },
   "file_extension": ".py",
   "mimetype": "text/x-python",
   "name": "python",
   "nbconvert_exporter": "python",
   "pygments_lexer": "ipython3",
   "version": "3.11.3"
  },
  "varInspector": {
   "cols": {
    "lenName": 16,
    "lenType": 16,
    "lenVar": 40
   },
   "kernels_config": {
    "python": {
     "delete_cmd_postfix": "",
     "delete_cmd_prefix": "del ",
     "library": "var_list.py",
     "varRefreshCmd": "print(var_dic_list())"
    },
    "r": {
     "delete_cmd_postfix": ") ",
     "delete_cmd_prefix": "rm(",
     "library": "var_list.r",
     "varRefreshCmd": "cat(var_dic_list()) "
    }
   },
   "types_to_exclude": [
    "module",
    "function",
    "builtin_function_or_method",
    "instance",
    "_Feature"
   ],
   "window_display": false
  }
 },
 "nbformat": 4,
 "nbformat_minor": 5
}

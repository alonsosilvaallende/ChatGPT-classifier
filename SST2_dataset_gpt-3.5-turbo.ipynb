{
 "cells": [
  {
   "cell_type": "code",
   "execution_count": 1,
   "id": "dcdf4e80",
   "metadata": {
    "ExecuteTime": {
     "end_time": "2023-07-11T04:50:46.918051Z",
     "start_time": "2023-07-11T04:50:46.897149Z"
    }
   },
   "outputs": [],
   "source": [
    "%load_ext autoreload\n",
    "%autoreload 2"
   ]
  },
  {
   "cell_type": "code",
   "execution_count": 2,
   "id": "69bfd988",
   "metadata": {
    "ExecuteTime": {
     "end_time": "2023-07-11T04:50:46.935318Z",
     "start_time": "2023-07-11T04:50:46.919848Z"
    }
   },
   "outputs": [
    {
     "data": {
      "text/plain": [
       "True"
      ]
     },
     "execution_count": 2,
     "metadata": {},
     "output_type": "execute_result"
    }
   ],
   "source": [
    "# get environment variable: OPENAI_API_KEY\n",
    "from dotenv import load_dotenv\n",
    "load_dotenv()"
   ]
  },
  {
   "cell_type": "code",
   "execution_count": 3,
   "id": "d729fbf9",
   "metadata": {
    "ExecuteTime": {
     "end_time": "2023-07-11T04:50:47.103507Z",
     "start_time": "2023-07-11T04:50:46.937307Z"
    }
   },
   "outputs": [],
   "source": [
    "import tiktoken\n",
    "import openai\n",
    "import time\n",
    "import numpy as np"
   ]
  },
  {
   "cell_type": "code",
   "execution_count": 4,
   "id": "f2cab311",
   "metadata": {
    "ExecuteTime": {
     "end_time": "2023-07-11T04:50:47.289572Z",
     "start_time": "2023-07-11T04:50:47.104507Z"
    }
   },
   "outputs": [
    {
     "data": {
      "text/plain": [
       "([31587], [43324])"
      ]
     },
     "execution_count": 4,
     "metadata": {},
     "output_type": "execute_result"
    }
   ],
   "source": [
    "# find tokens for 'positive' and 'negative'\n",
    "enc = tiktoken.encoding_for_model(\"gpt-3.5-turbo\")\n",
    "enc.encode(\"positive\"), enc.encode(\"negative\") "
   ]
  },
  {
   "cell_type": "code",
   "execution_count": 5,
   "id": "16a37f11",
   "metadata": {
    "ExecuteTime": {
     "end_time": "2023-07-11T04:50:49.554034Z",
     "start_time": "2023-07-11T04:50:47.291863Z"
    }
   },
   "outputs": [
    {
     "name": "stderr",
     "output_type": "stream",
     "text": [
      "Found cached dataset sst2 (/home/survival/.cache/huggingface/datasets/sst2/default/2.0.0/9896208a8d85db057ac50c72282bcb8fe755accc671a57dd8059d4e130961ed5)\n"
     ]
    },
    {
     "data": {
      "application/vnd.jupyter.widget-view+json": {
       "model_id": "5f60c5a41546476f814921eb921737f3",
       "version_major": 2,
       "version_minor": 0
      },
      "text/plain": [
       "  0%|          | 0/3 [00:00<?, ?it/s]"
      ]
     },
     "metadata": {},
     "output_type": "display_data"
    }
   ],
   "source": [
    "# download dataset from hf datasets https://github.com/huggingface/datasets\n",
    "# !pip install datasets \n",
    "from datasets import load_dataset\n",
    "\n",
    "dataset = load_dataset(\"sst2\")"
   ]
  },
  {
   "cell_type": "code",
   "execution_count": 6,
   "id": "1be6825d",
   "metadata": {
    "ExecuteTime": {
     "end_time": "2023-07-11T04:50:49.568724Z",
     "start_time": "2023-07-11T04:50:49.555419Z"
    }
   },
   "outputs": [],
   "source": [
    "val_data = dataset[\"validation\"]"
   ]
  },
  {
   "cell_type": "code",
   "execution_count": 7,
   "id": "836300ac",
   "metadata": {
    "ExecuteTime": {
     "end_time": "2023-07-11T04:50:49.685556Z",
     "start_time": "2023-07-11T04:50:49.569885Z"
    }
   },
   "outputs": [],
   "source": [
    "# sentimentid2sentimentlabel = {\"0\": \"negative\", \"1\": \"positive\"}\n",
    "sents, labels = [], []\n",
    "for idx in range(len(val_data)):\n",
    "    sents.append(val_data[idx][\"sentence\"])\n",
    "    label = val_data[idx][\"label\"]\n",
    "    if label == 0:\n",
    "        labels.append('negative')\n",
    "    else:\n",
    "        labels.append('positive')"
   ]
  },
  {
   "cell_type": "code",
   "execution_count": 8,
   "id": "63c071bd",
   "metadata": {
    "ExecuteTime": {
     "end_time": "2023-07-11T04:50:49.705365Z",
     "start_time": "2023-07-11T04:50:49.687451Z"
    }
   },
   "outputs": [],
   "source": [
    "def my_classifier(text: str) -> str:\n",
    "    return openai.ChatCompletion.create(\n",
    "    model='gpt-3.5-turbo',\n",
    "    messages=[\n",
    "        {\n",
    "            'role': 'system',\n",
    "            'content': 'You are a helpful sentiment analyzer assistant of movie reviews'\n",
    "        },\n",
    "        {\n",
    "        'role':'user',\n",
    "        'content':f'Given the following text, what is the sentiment conveyed? Is it positive or negative?: {text}'\n",
    "    }],\n",
    "    logit_bias={\n",
    "        '31587': 100,    # 31587 is the token for `positive`\n",
    "        '43324': 100     # 43324 is the token for `negative`\n",
    "    },\n",
    "    max_tokens=1,\n",
    "    temperature=0\n",
    ").choices[0].message.content"
   ]
  },
  {
   "cell_type": "code",
   "execution_count": 9,
   "id": "2a7e3697",
   "metadata": {
    "ExecuteTime": {
     "end_time": "2023-07-11T04:58:03.518373Z",
     "start_time": "2023-07-11T04:50:49.708141Z"
    }
   },
   "outputs": [],
   "source": [
    "preds = []\n",
    "for i, sent in enumerate(sents):\n",
    "    try:\n",
    "        preds.append(my_classifier(sent))\n",
    "    except:\n",
    "        preds.append(np.nan)\n",
    "        time.sleep(3)"
   ]
  },
  {
   "cell_type": "code",
   "execution_count": 10,
   "id": "313d2553",
   "metadata": {
    "ExecuteTime": {
     "end_time": "2023-07-11T05:09:44.260373Z",
     "start_time": "2023-07-11T05:09:44.228965Z"
    }
   },
   "outputs": [
    {
     "data": {
      "text/plain": [
       "[90, 279, 301, 742]"
      ]
     },
     "execution_count": 10,
     "metadata": {},
     "output_type": "execute_result"
    }
   ],
   "source": [
    "import pandas as pd\n",
    "\n",
    "missing = [i for i, pred in enumerate(preds) if pd.isna(pred)]\n",
    "missing"
   ]
  },
  {
   "cell_type": "code",
   "execution_count": 11,
   "id": "ad952527",
   "metadata": {
    "ExecuteTime": {
     "end_time": "2023-07-11T05:14:18.540667Z",
     "start_time": "2023-07-11T05:14:15.782657Z"
    }
   },
   "outputs": [],
   "source": [
    "missing_preds = []\n",
    "for idx in missing:\n",
    "    try:\n",
    "        missing_preds.append(my_classifier(sents[idx]))\n",
    "    except:\n",
    "        missing_preds.append(np.nan)\n",
    "        time.sleep(3)"
   ]
  },
  {
   "cell_type": "code",
   "execution_count": 12,
   "id": "a64225e1",
   "metadata": {
    "ExecuteTime": {
     "end_time": "2023-07-11T05:15:10.178842Z",
     "start_time": "2023-07-11T05:15:10.150635Z"
    }
   },
   "outputs": [],
   "source": [
    "for i, idx in enumerate(missing):\n",
    "    preds[idx] = missing_preds[i]"
   ]
  },
  {
   "cell_type": "code",
   "execution_count": 13,
   "id": "a62d5e16",
   "metadata": {
    "ExecuteTime": {
     "end_time": "2023-07-11T05:15:27.990129Z",
     "start_time": "2023-07-11T05:15:27.962239Z"
    }
   },
   "outputs": [
    {
     "data": {
      "text/plain": [
       "0.9587155963302753"
      ]
     },
     "execution_count": 13,
     "metadata": {},
     "output_type": "execute_result"
    }
   ],
   "source": [
    "np.mean([labels[i] == preds[i] for i in range(len(preds))])"
   ]
  },
  {
   "cell_type": "code",
   "execution_count": 14,
   "id": "062481e5",
   "metadata": {
    "ExecuteTime": {
     "end_time": "2023-07-11T05:18:22.764093Z",
     "start_time": "2023-07-11T05:18:22.732526Z"
    }
   },
   "outputs": [],
   "source": [
    "results = pd.DataFrame()\n",
    "results[\"sentence\"] = sents\n",
    "results[\"label\"] = labels\n",
    "results[\"predictions\"] = preds"
   ]
  },
  {
   "cell_type": "code",
   "execution_count": 15,
   "id": "fdf080a4",
   "metadata": {
    "ExecuteTime": {
     "end_time": "2023-07-11T05:20:32.966382Z",
     "start_time": "2023-07-11T05:20:32.932409Z"
    }
   },
   "outputs": [],
   "source": [
    "results.to_csv(\"./outputs/SST2_dataset_results_gpt-3.5-turbo.csv\", index=False)"
   ]
  }
 ],
 "metadata": {
  "kernelspec": {
   "display_name": "Python [conda env:langchain]",
   "language": "python",
   "name": "conda-env-langchain-py"
  },
  "language_info": {
   "codemirror_mode": {
    "name": "ipython",
    "version": 3
   },
   "file_extension": ".py",
   "mimetype": "text/x-python",
   "name": "python",
   "nbconvert_exporter": "python",
   "pygments_lexer": "ipython3",
   "version": "3.11.3"
  },
  "varInspector": {
   "cols": {
    "lenName": 16,
    "lenType": 16,
    "lenVar": 40
   },
   "kernels_config": {
    "python": {
     "delete_cmd_postfix": "",
     "delete_cmd_prefix": "del ",
     "library": "var_list.py",
     "varRefreshCmd": "print(var_dic_list())"
    },
    "r": {
     "delete_cmd_postfix": ") ",
     "delete_cmd_prefix": "rm(",
     "library": "var_list.r",
     "varRefreshCmd": "cat(var_dic_list()) "
    }
   },
   "types_to_exclude": [
    "module",
    "function",
    "builtin_function_or_method",
    "instance",
    "_Feature"
   ],
   "window_display": false
  }
 },
 "nbformat": 4,
 "nbformat_minor": 5
}

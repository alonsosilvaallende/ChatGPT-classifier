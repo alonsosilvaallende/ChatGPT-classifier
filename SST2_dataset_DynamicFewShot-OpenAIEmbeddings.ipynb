{
 "cells": [
  {
   "cell_type": "code",
   "execution_count": 1,
   "id": "3e393456",
   "metadata": {
    "ExecuteTime": {
     "end_time": "2023-07-13T13:38:47.576228Z",
     "start_time": "2023-07-13T13:38:47.552099Z"
    }
   },
   "outputs": [],
   "source": [
    "%load_ext autoreload\n",
    "%autoreload 2"
   ]
  },
  {
   "cell_type": "code",
   "execution_count": 2,
   "id": "f8b1e1ed",
   "metadata": {
    "ExecuteTime": {
     "end_time": "2023-07-13T13:38:48.864102Z",
     "start_time": "2023-07-13T13:38:48.836498Z"
    }
   },
   "outputs": [
    {
     "data": {
      "text/plain": [
       "True"
      ]
     },
     "execution_count": 2,
     "metadata": {},
     "output_type": "execute_result"
    }
   ],
   "source": [
    "# get environment variable: OPENAI_API_KEY\n",
    "from dotenv import load_dotenv, find_dotenv\n",
    "load_dotenv(find_dotenv())"
   ]
  },
  {
   "cell_type": "code",
   "execution_count": 3,
   "id": "ece94203",
   "metadata": {
    "ExecuteTime": {
     "end_time": "2023-07-13T13:38:52.320485Z",
     "start_time": "2023-07-13T13:38:52.222748Z"
    }
   },
   "outputs": [],
   "source": [
    "import os\n",
    "import openai\n",
    "from retry import retry\n",
    "\n",
    "openai.api_key = os.getenv(\"OPENAI_API_KEY\")"
   ]
  },
  {
   "cell_type": "code",
   "execution_count": 4,
   "id": "6a8c28a6",
   "metadata": {
    "ExecuteTime": {
     "end_time": "2023-07-13T13:38:59.194040Z",
     "start_time": "2023-07-13T13:38:53.248576Z"
    }
   },
   "outputs": [
    {
     "name": "stderr",
     "output_type": "stream",
     "text": [
      "Found cached dataset sst2 (/home/survival/.cache/huggingface/datasets/sst2/default/2.0.0/9896208a8d85db057ac50c72282bcb8fe755accc671a57dd8059d4e130961ed5)\n"
     ]
    },
    {
     "data": {
      "application/vnd.jupyter.widget-view+json": {
       "model_id": "8e4e539659b2485fb0b411a20dd994b0",
       "version_major": 2,
       "version_minor": 0
      },
      "text/plain": [
       "  0%|          | 0/3 [00:00<?, ?it/s]"
      ]
     },
     "metadata": {},
     "output_type": "display_data"
    }
   ],
   "source": [
    "from datasets import load_dataset\n",
    "\n",
    "dataset = load_dataset(\"sst2\")"
   ]
  },
  {
   "cell_type": "code",
   "execution_count": 5,
   "id": "381ba160",
   "metadata": {
    "ExecuteTime": {
     "end_time": "2023-07-13T13:39:01.671658Z",
     "start_time": "2023-07-13T13:39:01.649424Z"
    }
   },
   "outputs": [],
   "source": [
    "trn_data = dataset[\"train\"]\n",
    "val_data = dataset[\"validation\"]"
   ]
  },
  {
   "cell_type": "code",
   "execution_count": 6,
   "id": "eb00ed8c",
   "metadata": {
    "ExecuteTime": {
     "end_time": "2023-07-13T13:39:08.492333Z",
     "start_time": "2023-07-13T13:39:03.899062Z"
    }
   },
   "outputs": [],
   "source": [
    "# sentimentid2sentimentlabel = {\"0\": \"negative\", \"1\": \"positive\"}\n",
    "sents_trn, labels_trn = [], []\n",
    "for idx in range(len(trn_data)):\n",
    "    sents_trn.append(trn_data[idx][\"sentence\"])\n",
    "    label_trn = trn_data[idx][\"label\"]\n",
    "    if label_trn == 0:\n",
    "        labels_trn.append('negative')\n",
    "    else:\n",
    "        labels_trn.append('positive')"
   ]
  },
  {
   "cell_type": "code",
   "execution_count": 7,
   "id": "6ca2cd36",
   "metadata": {
    "ExecuteTime": {
     "end_time": "2023-07-13T13:39:09.485712Z",
     "start_time": "2023-07-13T13:39:09.414181Z"
    }
   },
   "outputs": [],
   "source": [
    "# sentimentid2sentimentlabel = {\"0\": \"negative\", \"1\": \"positive\"}\n",
    "sents, labels = [], []\n",
    "for idx in range(len(val_data)):\n",
    "    sents.append(val_data[idx][\"sentence\"])\n",
    "    label = val_data[idx][\"label\"]\n",
    "    if label == 0:\n",
    "        labels.append('negative')\n",
    "    else:\n",
    "        labels.append('positive')"
   ]
  },
  {
   "cell_type": "code",
   "execution_count": 8,
   "id": "dcecccc1",
   "metadata": {
    "ExecuteTime": {
     "end_time": "2023-07-13T13:39:12.218327Z",
     "start_time": "2023-07-13T13:39:12.168702Z"
    }
   },
   "outputs": [],
   "source": [
    "import pandas as pd\n",
    "\n",
    "results = pd.DataFrame()\n",
    "results[\"sentence\"] = sents_trn\n",
    "results[\"label\"] = labels_trn\n",
    "\n",
    "results_positive = results[results[\"label\"] == \"positive\"]\n",
    "results_negative = results[results[\"label\"] == \"negative\"]"
   ]
  },
  {
   "cell_type": "code",
   "execution_count": 9,
   "id": "c130fcde",
   "metadata": {
    "ExecuteTime": {
     "end_time": "2023-07-13T13:39:15.096745Z",
     "start_time": "2023-07-13T13:39:13.980934Z"
    }
   },
   "outputs": [],
   "source": [
    "from langchain.embeddings import OpenAIEmbeddings\n",
    "\n",
    "embedder = OpenAIEmbeddings()"
   ]
  },
  {
   "cell_type": "code",
   "execution_count": 10,
   "id": "12cdec48",
   "metadata": {
    "ExecuteTime": {
     "end_time": "2023-07-13T13:39:16.153795Z",
     "start_time": "2023-07-13T13:39:16.123938Z"
    }
   },
   "outputs": [],
   "source": [
    "# run it only the first time\n",
    "# embeddings_positive = embedder.embed_documents(list(results_positive[\"sentence\"]))\n",
    "# embeddings_negative = embedder.embed_documents(list(results_negative[\"sentence\"]))\n",
    "# df_embeddings_positive = pd.DataFrame(embeddings_positive)\n",
    "# df_embeddings_negative = pd.DataFrame(embeddings_negative)\n",
    "# df_embeddings_positive.to_pickle(\"./outputs/openai_embeddings_positive.pkl\")\n",
    "# df_embeddings_negative.to_pickle(\"./outputs/openai_embeddings_negative.pkl\")"
   ]
  },
  {
   "cell_type": "code",
   "execution_count": 11,
   "id": "e98e2eab",
   "metadata": {
    "ExecuteTime": {
     "end_time": "2023-07-13T13:39:23.546146Z",
     "start_time": "2023-07-13T13:39:23.215564Z"
    }
   },
   "outputs": [],
   "source": [
    "df_embeddings_positive = pd.read_pickle(\"./outputs/openai_embeddings_positive.pkl\")\n",
    "df_embeddings_negative = pd.read_pickle(\"./outputs/openai_embeddings_negative.pkl\")"
   ]
  },
  {
   "cell_type": "code",
   "execution_count": 12,
   "id": "1daf3648",
   "metadata": {
    "ExecuteTime": {
     "end_time": "2023-07-13T13:39:43.507951Z",
     "start_time": "2023-07-13T13:39:32.110238Z"
    }
   },
   "outputs": [],
   "source": [
    "embeddings_positive = [list(df_embeddings_positive.iloc[i]) for i in range(df_embeddings_positive.shape[0])]\n",
    "embeddings_negative = [list(df_embeddings_negative.iloc[i]) for i in range(df_embeddings_negative.shape[0])]"
   ]
  },
  {
   "cell_type": "code",
   "execution_count": 13,
   "id": "71167041",
   "metadata": {
    "ExecuteTime": {
     "end_time": "2023-07-13T13:39:45.217432Z",
     "start_time": "2023-07-13T13:39:45.188286Z"
    }
   },
   "outputs": [],
   "source": [
    "f = len(embeddings_positive[0])"
   ]
  },
  {
   "cell_type": "code",
   "execution_count": 14,
   "id": "10a71fc7",
   "metadata": {
    "ExecuteTime": {
     "end_time": "2023-07-13T13:39:48.566707Z",
     "start_time": "2023-07-13T13:39:47.333072Z"
    }
   },
   "outputs": [],
   "source": [
    "from annoy import AnnoyIndex\n",
    "\n",
    "t_positive = AnnoyIndex(f, 'angular')\n",
    "for i in range(len(embeddings_positive)):\n",
    "    t_positive.add_item(i, embeddings_positive[i])"
   ]
  },
  {
   "cell_type": "code",
   "execution_count": 15,
   "id": "e1bfa469",
   "metadata": {
    "ExecuteTime": {
     "end_time": "2023-07-13T13:39:50.747952Z",
     "start_time": "2023-07-13T13:39:49.751524Z"
    }
   },
   "outputs": [],
   "source": [
    "t_negative = AnnoyIndex(f, 'angular')\n",
    "for i in range(len(embeddings_negative)):\n",
    "    t_negative.add_item(i, embeddings_negative[i])"
   ]
  },
  {
   "cell_type": "code",
   "execution_count": 16,
   "id": "49f189cf",
   "metadata": {
    "ExecuteTime": {
     "end_time": "2023-07-13T13:40:44.132542Z",
     "start_time": "2023-07-13T13:40:00.381327Z"
    }
   },
   "outputs": [
    {
     "data": {
      "text/plain": [
       "True"
      ]
     },
     "execution_count": 16,
     "metadata": {},
     "output_type": "execute_result"
    }
   ],
   "source": [
    "t_positive.build(1000) # 1000 trees\n",
    "t_negative.build(1000) # 1000 trees"
   ]
  },
  {
   "cell_type": "code",
   "execution_count": 17,
   "id": "db4f6d5d",
   "metadata": {
    "ExecuteTime": {
     "end_time": "2023-07-13T13:40:48.459410Z",
     "start_time": "2023-07-13T13:40:47.683138Z"
    }
   },
   "outputs": [
    {
     "data": {
      "text/plain": [
       "True"
      ]
     },
     "execution_count": 17,
     "metadata": {},
     "output_type": "execute_result"
    }
   ],
   "source": [
    "t_positive.save('t_positive.ann')\n",
    "t_negative.save('t_negative.ann')"
   ]
  },
  {
   "cell_type": "code",
   "execution_count": 18,
   "id": "6f8355c6",
   "metadata": {
    "ExecuteTime": {
     "end_time": "2023-07-13T13:40:50.824945Z",
     "start_time": "2023-07-13T13:40:50.798918Z"
    }
   },
   "outputs": [
    {
     "data": {
      "text/plain": [
       "True"
      ]
     },
     "execution_count": 18,
     "metadata": {},
     "output_type": "execute_result"
    }
   ],
   "source": [
    "u_positive = AnnoyIndex(f, 'angular')\n",
    "u_positive.load('t_positive.ann')\n",
    "u_negative = AnnoyIndex(f, 'angular')\n",
    "u_negative.load('t_negative.ann')"
   ]
  },
  {
   "cell_type": "code",
   "execution_count": 20,
   "id": "d95135e5",
   "metadata": {
    "ExecuteTime": {
     "end_time": "2023-07-13T13:41:14.109170Z",
     "start_time": "2023-07-13T13:41:14.075388Z"
    }
   },
   "outputs": [],
   "source": [
    "@retry(tries=10, delay=3)\n",
    "def my_classifier(text: str, n_examples: int) -> str:\n",
    "    query_embedding = embedder.embed_query(text)\n",
    "    neighbors_positive = u_positive.get_nns_by_vector(query_embedding,\n",
    "                                                      n_examples)\n",
    "    neighbors_negative = u_negative.get_nns_by_vector(query_embedding,\n",
    "                                                      n_examples)\n",
    "    template = f\"Your task is to determine what is the sentiment conveyed by a text. Here are some examples:\\n\\n\"\n",
    "    for i in range(n_examples):\n",
    "        template += f\"Text: '{results_positive.iloc[neighbors_positive[i]]['sentence']}'\\nThe sentiment conveyed is: {results_positive.iloc[neighbors_positive[i]]['label']}\\n\\n\"\n",
    "        template += f\"Text: '{results_negative.iloc[neighbors_negative[i]]['sentence']}'\\nThe sentiment conveyed is: {results_negative.iloc[neighbors_negative[i]]['label']}\\n\\n\"\n",
    "    template += f\"Given the following text, what is the sentiment conveyed?:\\n\\nText: '{text}'\\nThe sentiment conveyed is:\"\n",
    "#     return template\n",
    "    return openai.ChatCompletion.create(\n",
    "        model='gpt-3.5-turbo',\n",
    "        messages=[{\n",
    "            'role':\n",
    "            'system',\n",
    "            'content':\n",
    "            'You are a helpful sentiment analyzer assistant of movie reviews'\n",
    "        }, {\n",
    "            'role': 'user',\n",
    "            'content': f'{template}'\n",
    "        }],\n",
    "        logit_bias={\n",
    "            '31587': 100,  # 31587 is the token for `positive`\n",
    "            '43324': 100  # 43324 is the token for `negative`\n",
    "        },\n",
    "        max_tokens=1,\n",
    "        temperature=0).choices[0].message.content"
   ]
  },
  {
   "cell_type": "code",
   "execution_count": 21,
   "id": "4c14fac5",
   "metadata": {
    "ExecuteTime": {
     "end_time": "2023-07-13T13:41:35.083749Z",
     "start_time": "2023-07-13T13:41:35.056120Z"
    }
   },
   "outputs": [],
   "source": [
    "# i = 0\n",
    "# sents[i], labels[i], my_classifier(sents[i], n_examples=2)"
   ]
  },
  {
   "cell_type": "code",
   "execution_count": 22,
   "id": "53d0feac",
   "metadata": {
    "ExecuteTime": {
     "end_time": "2023-07-13T13:42:24.276601Z",
     "start_time": "2023-07-13T13:42:24.247272Z"
    }
   },
   "outputs": [],
   "source": [
    "import time\n",
    "import numpy as np"
   ]
  },
  {
   "cell_type": "code",
   "execution_count": 23,
   "id": "b9b653f9",
   "metadata": {
    "ExecuteTime": {
     "end_time": "2023-07-13T13:42:32.191300Z",
     "start_time": "2023-07-13T13:42:32.168252Z"
    }
   },
   "outputs": [],
   "source": [
    "n_examples = 3"
   ]
  },
  {
   "cell_type": "code",
   "execution_count": 24,
   "id": "040d97f0",
   "metadata": {
    "ExecuteTime": {
     "end_time": "2023-07-13T14:02:42.570964Z",
     "start_time": "2023-07-13T13:42:48.140832Z"
    }
   },
   "outputs": [],
   "source": [
    "start_time = time.time()\n",
    "preds = [my_classifier(sent, n_examples) for sent in sents]\n",
    "end_time = time.time()"
   ]
  },
  {
   "cell_type": "code",
   "execution_count": 25,
   "id": "285609d2",
   "metadata": {
    "ExecuteTime": {
     "end_time": "2023-07-13T19:21:43.076098Z",
     "start_time": "2023-07-13T19:21:43.036238Z"
    }
   },
   "outputs": [
    {
     "data": {
      "text/plain": [
       "1194.4010379314423"
      ]
     },
     "execution_count": 25,
     "metadata": {},
     "output_type": "execute_result"
    }
   ],
   "source": [
    "end_time - start_time"
   ]
  },
  {
   "cell_type": "code",
   "execution_count": 26,
   "id": "409217aa",
   "metadata": {
    "ExecuteTime": {
     "end_time": "2023-07-13T19:21:47.172660Z",
     "start_time": "2023-07-13T19:21:47.140594Z"
    }
   },
   "outputs": [
    {
     "data": {
      "text/plain": [
       "0.9552752293577982"
      ]
     },
     "execution_count": 26,
     "metadata": {},
     "output_type": "execute_result"
    }
   ],
   "source": [
    "np.mean([preds[i] == labels[i] for i in range(len(labels))])"
   ]
  },
  {
   "cell_type": "code",
   "execution_count": 27,
   "id": "7f405d3a",
   "metadata": {
    "ExecuteTime": {
     "end_time": "2023-07-13T19:22:00.577093Z",
     "start_time": "2023-07-13T19:22:00.538958Z"
    }
   },
   "outputs": [],
   "source": [
    "partial = pd.DataFrame()\n",
    "partial[\"sentence\"] = sents\n",
    "partial[\"label\"] = labels\n",
    "partial[\"preds\"] = preds"
   ]
  },
  {
   "cell_type": "code",
   "execution_count": 28,
   "id": "257aa36b",
   "metadata": {
    "ExecuteTime": {
     "end_time": "2023-07-13T19:22:06.928367Z",
     "start_time": "2023-07-13T19:22:06.897058Z"
    }
   },
   "outputs": [],
   "source": [
    "mistakes = partial[partial[\"label\"] != partial[\"preds\"]]"
   ]
  },
  {
   "cell_type": "code",
   "execution_count": 29,
   "id": "c7b73258",
   "metadata": {
    "ExecuteTime": {
     "end_time": "2023-07-13T19:22:22.166824Z",
     "start_time": "2023-07-13T19:22:22.130498Z"
    }
   },
   "outputs": [],
   "source": [
    "mistakes.to_csv(\"./outputs/mistakes_3_neighbors_openai_embeddings.csv\", index=False)"
   ]
  }
 ],
 "metadata": {
  "kernelspec": {
   "display_name": "Python [conda env:langchain]",
   "language": "python",
   "name": "conda-env-langchain-py"
  },
  "language_info": {
   "codemirror_mode": {
    "name": "ipython",
    "version": 3
   },
   "file_extension": ".py",
   "mimetype": "text/x-python",
   "name": "python",
   "nbconvert_exporter": "python",
   "pygments_lexer": "ipython3",
   "version": "3.11.3"
  },
  "varInspector": {
   "cols": {
    "lenName": 16,
    "lenType": 16,
    "lenVar": 40
   },
   "kernels_config": {
    "python": {
     "delete_cmd_postfix": "",
     "delete_cmd_prefix": "del ",
     "library": "var_list.py",
     "varRefreshCmd": "print(var_dic_list())"
    },
    "r": {
     "delete_cmd_postfix": ") ",
     "delete_cmd_prefix": "rm(",
     "library": "var_list.r",
     "varRefreshCmd": "cat(var_dic_list()) "
    }
   },
   "types_to_exclude": [
    "module",
    "function",
    "builtin_function_or_method",
    "instance",
    "_Feature"
   ],
   "window_display": false
  }
 },
 "nbformat": 4,
 "nbformat_minor": 5
}

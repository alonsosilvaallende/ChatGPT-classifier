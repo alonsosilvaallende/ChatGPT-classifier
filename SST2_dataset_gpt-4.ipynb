{
 "cells": [
  {
   "cell_type": "code",
   "execution_count": 1,
   "id": "2a93e6e6",
   "metadata": {
    "ExecuteTime": {
     "end_time": "2023-07-11T05:53:20.775365Z",
     "start_time": "2023-07-11T05:53:20.754036Z"
    }
   },
   "outputs": [],
   "source": [
    "%load_ext autoreload\n",
    "%autoreload 2"
   ]
  },
  {
   "cell_type": "code",
   "execution_count": 25,
   "id": "b457237c",
   "metadata": {
    "ExecuteTime": {
     "end_time": "2023-07-11T06:42:16.884248Z",
     "start_time": "2023-07-11T06:42:16.854520Z"
    }
   },
   "outputs": [
    {
     "data": {
      "text/plain": [
       "True"
      ]
     },
     "execution_count": 25,
     "metadata": {},
     "output_type": "execute_result"
    }
   ],
   "source": [
    "# get environment variable: OPENAI_API_KEY\n",
    "from dotenv import load_dotenv, find_dotenv\n",
    "load_dotenv(find_dotenv())"
   ]
  },
  {
   "cell_type": "code",
   "execution_count": 3,
   "id": "69e7dddd",
   "metadata": {
    "ExecuteTime": {
     "end_time": "2023-07-11T05:53:23.255222Z",
     "start_time": "2023-07-11T05:53:22.934552Z"
    }
   },
   "outputs": [],
   "source": [
    "import os\n",
    "import openai\n",
    "import tiktoken\n",
    "import time\n",
    "import numpy as np\n",
    "import pandas as pd"
   ]
  },
  {
   "cell_type": "code",
   "execution_count": 26,
   "id": "b4de563b",
   "metadata": {
    "ExecuteTime": {
     "end_time": "2023-07-11T06:42:21.041524Z",
     "start_time": "2023-07-11T06:42:21.016974Z"
    }
   },
   "outputs": [],
   "source": [
    "openai.api_base = \"https://openrouter.ai/api/v1\"\n",
    "openai.api_key = os.getenv(\"OPENAI_API_KEY\")"
   ]
  },
  {
   "cell_type": "code",
   "execution_count": 5,
   "id": "2a8bb761",
   "metadata": {
    "ExecuteTime": {
     "end_time": "2023-07-11T05:53:27.367650Z",
     "start_time": "2023-07-11T05:53:27.135173Z"
    }
   },
   "outputs": [
    {
     "data": {
      "text/plain": [
       "([31587], [43324])"
      ]
     },
     "execution_count": 5,
     "metadata": {},
     "output_type": "execute_result"
    }
   ],
   "source": [
    "# find tokens for 'positive' and 'negative'\n",
    "enc = tiktoken.encoding_for_model(\"gpt-4\")\n",
    "enc.encode(\"positive\"), enc.encode(\"negative\") "
   ]
  },
  {
   "cell_type": "code",
   "execution_count": 6,
   "id": "9d6690b2",
   "metadata": {
    "ExecuteTime": {
     "end_time": "2023-07-11T05:53:31.354986Z",
     "start_time": "2023-07-11T05:53:29.258522Z"
    }
   },
   "outputs": [
    {
     "name": "stderr",
     "output_type": "stream",
     "text": [
      "Found cached dataset sst2 (/home/survival/.cache/huggingface/datasets/sst2/default/2.0.0/9896208a8d85db057ac50c72282bcb8fe755accc671a57dd8059d4e130961ed5)\n"
     ]
    },
    {
     "data": {
      "application/vnd.jupyter.widget-view+json": {
       "model_id": "aeec2b201d0a4df3a4d9b70f470a77dc",
       "version_major": 2,
       "version_minor": 0
      },
      "text/plain": [
       "  0%|          | 0/3 [00:00<?, ?it/s]"
      ]
     },
     "metadata": {},
     "output_type": "display_data"
    }
   ],
   "source": [
    "# download dataset from hf datasets https://github.com/huggingface/datasets\n",
    "# !pip install datasets \n",
    "from datasets import load_dataset\n",
    "\n",
    "dataset = load_dataset(\"sst2\")"
   ]
  },
  {
   "cell_type": "code",
   "execution_count": 7,
   "id": "2c1b3b7a",
   "metadata": {
    "ExecuteTime": {
     "end_time": "2023-07-11T05:53:34.203476Z",
     "start_time": "2023-07-11T05:53:34.177283Z"
    }
   },
   "outputs": [],
   "source": [
    "val_data = dataset[\"validation\"]"
   ]
  },
  {
   "cell_type": "code",
   "execution_count": 8,
   "id": "a9978ecc",
   "metadata": {
    "ExecuteTime": {
     "end_time": "2023-07-11T05:53:37.634946Z",
     "start_time": "2023-07-11T05:53:37.548002Z"
    }
   },
   "outputs": [],
   "source": [
    "# sentimentid2sentimentlabel = {\"0\": \"negative\", \"1\": \"positive\"}\n",
    "sents, labels = [], []\n",
    "for idx in range(len(val_data)):\n",
    "    sents.append(val_data[idx][\"sentence\"])\n",
    "    label = val_data[idx][\"label\"]\n",
    "    if label == 0:\n",
    "        labels.append('negative')\n",
    "    else:\n",
    "        labels.append('positive')"
   ]
  },
  {
   "cell_type": "code",
   "execution_count": 9,
   "id": "d16e0e2e",
   "metadata": {
    "ExecuteTime": {
     "end_time": "2023-07-11T05:53:44.349625Z",
     "start_time": "2023-07-11T05:53:44.325305Z"
    }
   },
   "outputs": [],
   "source": [
    "# Not needed if you have already access to gpt-4. \n",
    "OPENROUTER_REFERRER = \"https://github.com/alonsosilvaallende/chatplotlib-openrouter\""
   ]
  },
  {
   "cell_type": "code",
   "execution_count": 10,
   "id": "9311a6f1",
   "metadata": {
    "ExecuteTime": {
     "end_time": "2023-07-11T05:53:55.855479Z",
     "start_time": "2023-07-11T05:53:55.828816Z"
    }
   },
   "outputs": [],
   "source": [
    "def my_classifier(text: str) -> str:\n",
    "    return openai.ChatCompletion.create(\n",
    "    model='openai/gpt-4',\n",
    "    headers={\"HTTP-Referer\": OPENROUTER_REFERRER}, # Not needed if you already have access to gpt-4\n",
    "    messages=[\n",
    "        {\n",
    "            'role': 'system',\n",
    "            'content': 'You are a helpful sentiment analyzer assistant of movie reviews'\n",
    "        },\n",
    "        {\n",
    "        'role':'user',\n",
    "        'content':f'Given the following text, what is the sentiment conveyed? Is it positive or negative?: {text}'\n",
    "    }],\n",
    "    logit_bias={\n",
    "        '31587': 100,    # 31587 is the token for `positive`\n",
    "        '43324': 100     # 43324 is the token for `negative`\n",
    "    },\n",
    "    max_tokens=1,\n",
    "    temperature=0\n",
    ").choices[0].message.content"
   ]
  },
  {
   "cell_type": "code",
   "execution_count": 11,
   "id": "c2954956",
   "metadata": {
    "ExecuteTime": {
     "end_time": "2023-07-11T06:25:53.730719Z",
     "start_time": "2023-07-11T05:54:04.857720Z"
    }
   },
   "outputs": [],
   "source": [
    "preds = []\n",
    "for i, sent in enumerate(sents):\n",
    "    try:\n",
    "        preds.append(my_classifier(sent))\n",
    "    except:\n",
    "        preds.append(np.nan)\n",
    "        time.sleep(3)"
   ]
  },
  {
   "cell_type": "code",
   "execution_count": 12,
   "id": "6efc0f47",
   "metadata": {
    "ExecuteTime": {
     "end_time": "2023-07-11T06:32:43.519564Z",
     "start_time": "2023-07-11T06:32:43.488381Z"
    }
   },
   "outputs": [
    {
     "data": {
      "text/plain": [
       "[505,\n",
       " 506,\n",
       " 507,\n",
       " 508,\n",
       " 509,\n",
       " 510,\n",
       " 511,\n",
       " 512,\n",
       " 513,\n",
       " 514,\n",
       " 515,\n",
       " 516,\n",
       " 517,\n",
       " 518,\n",
       " 519,\n",
       " 520,\n",
       " 521,\n",
       " 522,\n",
       " 523,\n",
       " 524,\n",
       " 525,\n",
       " 526,\n",
       " 527,\n",
       " 528,\n",
       " 529,\n",
       " 530,\n",
       " 531,\n",
       " 532,\n",
       " 533,\n",
       " 534,\n",
       " 535,\n",
       " 536,\n",
       " 537,\n",
       " 538,\n",
       " 539,\n",
       " 540,\n",
       " 541,\n",
       " 542,\n",
       " 543,\n",
       " 544,\n",
       " 545,\n",
       " 546,\n",
       " 547,\n",
       " 548,\n",
       " 549,\n",
       " 550,\n",
       " 551,\n",
       " 552,\n",
       " 553,\n",
       " 554,\n",
       " 555,\n",
       " 556,\n",
       " 557,\n",
       " 558,\n",
       " 559,\n",
       " 560,\n",
       " 561,\n",
       " 562,\n",
       " 563,\n",
       " 564,\n",
       " 565,\n",
       " 566,\n",
       " 567,\n",
       " 568,\n",
       " 569,\n",
       " 570,\n",
       " 571,\n",
       " 572,\n",
       " 573,\n",
       " 574,\n",
       " 575,\n",
       " 576,\n",
       " 577,\n",
       " 578,\n",
       " 579,\n",
       " 580,\n",
       " 581,\n",
       " 582,\n",
       " 583,\n",
       " 584,\n",
       " 585,\n",
       " 586,\n",
       " 587,\n",
       " 588,\n",
       " 589,\n",
       " 590,\n",
       " 591,\n",
       " 592,\n",
       " 593,\n",
       " 594,\n",
       " 595,\n",
       " 596,\n",
       " 597,\n",
       " 598,\n",
       " 599,\n",
       " 600,\n",
       " 601,\n",
       " 602,\n",
       " 603,\n",
       " 604,\n",
       " 605,\n",
       " 606,\n",
       " 607,\n",
       " 608,\n",
       " 609,\n",
       " 610,\n",
       " 611,\n",
       " 612,\n",
       " 613,\n",
       " 614,\n",
       " 615,\n",
       " 616,\n",
       " 617,\n",
       " 618,\n",
       " 619,\n",
       " 620,\n",
       " 621,\n",
       " 622,\n",
       " 623,\n",
       " 624,\n",
       " 625,\n",
       " 626,\n",
       " 627,\n",
       " 628,\n",
       " 629,\n",
       " 630,\n",
       " 631,\n",
       " 632,\n",
       " 633,\n",
       " 634,\n",
       " 635,\n",
       " 636,\n",
       " 637,\n",
       " 638,\n",
       " 639,\n",
       " 640,\n",
       " 641,\n",
       " 642,\n",
       " 643,\n",
       " 644,\n",
       " 645,\n",
       " 646,\n",
       " 647,\n",
       " 648,\n",
       " 649,\n",
       " 650,\n",
       " 651,\n",
       " 652,\n",
       " 653,\n",
       " 654,\n",
       " 655,\n",
       " 656,\n",
       " 657,\n",
       " 658,\n",
       " 659,\n",
       " 660,\n",
       " 661,\n",
       " 662,\n",
       " 663,\n",
       " 664,\n",
       " 665,\n",
       " 666,\n",
       " 667,\n",
       " 668,\n",
       " 669,\n",
       " 670,\n",
       " 671,\n",
       " 672,\n",
       " 673,\n",
       " 674,\n",
       " 675,\n",
       " 676,\n",
       " 677,\n",
       " 678,\n",
       " 679,\n",
       " 680,\n",
       " 681,\n",
       " 682,\n",
       " 683,\n",
       " 684,\n",
       " 685,\n",
       " 686,\n",
       " 687,\n",
       " 688,\n",
       " 689,\n",
       " 690,\n",
       " 691,\n",
       " 692,\n",
       " 693,\n",
       " 694,\n",
       " 695,\n",
       " 696,\n",
       " 697,\n",
       " 698,\n",
       " 699,\n",
       " 700,\n",
       " 701,\n",
       " 702,\n",
       " 703,\n",
       " 704,\n",
       " 705,\n",
       " 706,\n",
       " 707,\n",
       " 708,\n",
       " 709,\n",
       " 710,\n",
       " 711,\n",
       " 712,\n",
       " 713,\n",
       " 714,\n",
       " 715,\n",
       " 716,\n",
       " 717,\n",
       " 718,\n",
       " 719,\n",
       " 720,\n",
       " 721,\n",
       " 722,\n",
       " 723,\n",
       " 724,\n",
       " 725,\n",
       " 726,\n",
       " 727,\n",
       " 728,\n",
       " 729,\n",
       " 730,\n",
       " 731,\n",
       " 732,\n",
       " 733,\n",
       " 734,\n",
       " 735,\n",
       " 736,\n",
       " 737,\n",
       " 738,\n",
       " 739,\n",
       " 740,\n",
       " 741,\n",
       " 742,\n",
       " 743,\n",
       " 744,\n",
       " 745,\n",
       " 746,\n",
       " 747,\n",
       " 748,\n",
       " 749,\n",
       " 750,\n",
       " 751,\n",
       " 752,\n",
       " 753,\n",
       " 754,\n",
       " 755,\n",
       " 756,\n",
       " 757,\n",
       " 758,\n",
       " 759,\n",
       " 760,\n",
       " 761,\n",
       " 762,\n",
       " 763,\n",
       " 764,\n",
       " 765,\n",
       " 766,\n",
       " 767,\n",
       " 768,\n",
       " 769,\n",
       " 770,\n",
       " 771,\n",
       " 772,\n",
       " 773,\n",
       " 774,\n",
       " 775,\n",
       " 776,\n",
       " 777,\n",
       " 778,\n",
       " 779,\n",
       " 780,\n",
       " 781,\n",
       " 782,\n",
       " 783,\n",
       " 784,\n",
       " 785,\n",
       " 786,\n",
       " 787,\n",
       " 788,\n",
       " 789,\n",
       " 790,\n",
       " 791,\n",
       " 792,\n",
       " 793,\n",
       " 794,\n",
       " 795,\n",
       " 796,\n",
       " 797,\n",
       " 798,\n",
       " 799,\n",
       " 800,\n",
       " 801,\n",
       " 802,\n",
       " 803,\n",
       " 804,\n",
       " 805,\n",
       " 806,\n",
       " 807,\n",
       " 808,\n",
       " 809,\n",
       " 810,\n",
       " 811,\n",
       " 812,\n",
       " 813,\n",
       " 814,\n",
       " 815,\n",
       " 816,\n",
       " 817,\n",
       " 818,\n",
       " 819,\n",
       " 820,\n",
       " 821,\n",
       " 822,\n",
       " 823,\n",
       " 824,\n",
       " 825,\n",
       " 826,\n",
       " 827,\n",
       " 828,\n",
       " 829,\n",
       " 830,\n",
       " 831,\n",
       " 832,\n",
       " 833,\n",
       " 834,\n",
       " 835,\n",
       " 836,\n",
       " 837,\n",
       " 838,\n",
       " 839,\n",
       " 840,\n",
       " 841,\n",
       " 842,\n",
       " 843,\n",
       " 844,\n",
       " 845,\n",
       " 846,\n",
       " 847,\n",
       " 848,\n",
       " 849,\n",
       " 850,\n",
       " 851,\n",
       " 852,\n",
       " 853,\n",
       " 854,\n",
       " 855,\n",
       " 856,\n",
       " 857,\n",
       " 858,\n",
       " 859,\n",
       " 860,\n",
       " 861,\n",
       " 862,\n",
       " 863,\n",
       " 864,\n",
       " 865,\n",
       " 866,\n",
       " 867,\n",
       " 868,\n",
       " 869,\n",
       " 870,\n",
       " 871]"
      ]
     },
     "execution_count": 12,
     "metadata": {},
     "output_type": "execute_result"
    }
   ],
   "source": [
    "import pandas as pd\n",
    "\n",
    "missing = [i for i, pred in enumerate(preds) if pd.isna(pred)]\n",
    "missing"
   ]
  },
  {
   "cell_type": "code",
   "execution_count": 29,
   "id": "2c334a38",
   "metadata": {
    "ExecuteTime": {
     "end_time": "2023-07-11T06:54:56.862162Z",
     "start_time": "2023-07-11T06:43:32.647947Z"
    }
   },
   "outputs": [],
   "source": [
    "missing_preds = []\n",
    "for idx in missing:\n",
    "    try:\n",
    "        missing_preds.append(my_classifier(sents[idx]))\n",
    "    except:\n",
    "        missing_preds.append(np.nan)\n",
    "        time.sleep(3)"
   ]
  },
  {
   "cell_type": "code",
   "execution_count": 30,
   "id": "cc8f4c32",
   "metadata": {
    "ExecuteTime": {
     "end_time": "2023-07-11T06:57:10.230522Z",
     "start_time": "2023-07-11T06:57:10.205608Z"
    }
   },
   "outputs": [],
   "source": [
    "for i, idx in enumerate(missing):\n",
    "    preds[idx] = missing_preds[i]"
   ]
  },
  {
   "cell_type": "code",
   "execution_count": 31,
   "id": "71b987f8",
   "metadata": {
    "ExecuteTime": {
     "end_time": "2023-07-11T06:57:36.544349Z",
     "start_time": "2023-07-11T06:57:36.512418Z"
    }
   },
   "outputs": [
    {
     "data": {
      "text/plain": [
       "[]"
      ]
     },
     "execution_count": 31,
     "metadata": {},
     "output_type": "execute_result"
    }
   ],
   "source": [
    "missing = [i for i, pred in enumerate(preds) if pd.isna(pred)]\n",
    "missing"
   ]
  },
  {
   "cell_type": "code",
   "execution_count": 32,
   "id": "08e80b1a",
   "metadata": {
    "ExecuteTime": {
     "end_time": "2023-07-11T06:57:44.667191Z",
     "start_time": "2023-07-11T06:57:44.640399Z"
    }
   },
   "outputs": [
    {
     "data": {
      "text/plain": [
       "0.9598623853211009"
      ]
     },
     "execution_count": 32,
     "metadata": {},
     "output_type": "execute_result"
    }
   ],
   "source": [
    "np.mean([labels[i] == preds[i] for i in range(len(preds))])"
   ]
  },
  {
   "cell_type": "code",
   "execution_count": 33,
   "id": "8ca1dfd0",
   "metadata": {
    "ExecuteTime": {
     "end_time": "2023-07-11T06:58:53.097196Z",
     "start_time": "2023-07-11T06:58:53.066707Z"
    }
   },
   "outputs": [],
   "source": [
    "results = pd.DataFrame()\n",
    "results[\"sentences\"] = sents\n",
    "results[\"labels\"] = labels\n",
    "results[\"predictions\"] = preds"
   ]
  },
  {
   "cell_type": "code",
   "execution_count": 34,
   "id": "f8bb9c76",
   "metadata": {
    "ExecuteTime": {
     "end_time": "2023-07-11T06:58:59.424959Z",
     "start_time": "2023-07-11T06:58:59.395714Z"
    }
   },
   "outputs": [],
   "source": [
    "results.to_csv(\"./outputs/SST2_dataset_results_gpt-4.csv\", index=False)"
   ]
  }
 ],
 "metadata": {
  "kernelspec": {
   "display_name": "Python [conda env:langchain]",
   "language": "python",
   "name": "conda-env-langchain-py"
  },
  "language_info": {
   "codemirror_mode": {
    "name": "ipython",
    "version": 3
   },
   "file_extension": ".py",
   "mimetype": "text/x-python",
   "name": "python",
   "nbconvert_exporter": "python",
   "pygments_lexer": "ipython3",
   "version": "3.11.3"
  },
  "varInspector": {
   "cols": {
    "lenName": 16,
    "lenType": 16,
    "lenVar": 40
   },
   "kernels_config": {
    "python": {
     "delete_cmd_postfix": "",
     "delete_cmd_prefix": "del ",
     "library": "var_list.py",
     "varRefreshCmd": "print(var_dic_list())"
    },
    "r": {
     "delete_cmd_postfix": ") ",
     "delete_cmd_prefix": "rm(",
     "library": "var_list.r",
     "varRefreshCmd": "cat(var_dic_list()) "
    }
   },
   "types_to_exclude": [
    "module",
    "function",
    "builtin_function_or_method",
    "instance",
    "_Feature"
   ],
   "window_display": false
  }
 },
 "nbformat": 4,
 "nbformat_minor": 5
}
